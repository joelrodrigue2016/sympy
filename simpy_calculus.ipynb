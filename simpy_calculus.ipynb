{
 "cells": [
  {
   "cell_type": "code",
   "execution_count": 86,
   "id": "8c8ffa3f",
   "metadata": {},
   "outputs": [
    {
     "name": "stdout",
     "output_type": "stream",
     "text": [
      "Modules loaded successfully!\n"
     ]
    }
   ],
   "source": [
    "try:\n",
    "    import numpy as np\n",
    "    from matplotlib import pyplot as plt\n",
    "    from sympy import *\n",
    "    from sympy.abc import *\n",
    "    from sympy.stats import * \n",
    "    #from sympy.statistics import *\n",
    "    #init_printing(use_unicode=False, wrap_line=False, no_global=True)\n",
    "    print(\"Modules loaded successfully!\")\n",
    "except ModuleNotFoundError:\n",
    "    print(\"There was a problem with your module(s)\")"
   ]
  },
  {
   "cell_type": "code",
   "execution_count": 88,
   "id": "1ca847a4",
   "metadata": {},
   "outputs": [
    {
     "data": {
      "text/plain": [
       "{3/2 - sqrt(17)/2: 1, 3/2 + sqrt(17)/2: 1}"
      ]
     },
     "execution_count": 88,
     "metadata": {},
     "output_type": "execute_result"
    }
   ],
   "source": [
    "M= Matrix([[1,2],[2,2]])\n",
    "\n",
    "M.eigenvals()"
   ]
  },
  {
   "cell_type": "markdown",
   "id": "97f31122",
   "metadata": {},
   "source": [
    "#### a) Define two six sided dice.\n",
    "#### b) Declare a Normal random variable with mean 0, std 1\n",
    "#### c) Probability X is greater than 3\n"
   ]
  },
  {
   "cell_type": "code",
   "execution_count": 69,
   "id": "07f53fdf",
   "metadata": {},
   "outputs": [
    {
     "data": {
      "text/latex": [
       "$\\displaystyle \\frac{1}{2}$"
      ],
      "text/plain": [
       "1/2"
      ]
     },
     "execution_count": 69,
     "metadata": {},
     "output_type": "execute_result"
    }
   ],
   "source": [
    "\n",
    "X, Y = Die('X', 6), Die('Y', 6) \n",
    "\n",
    "Z = Normal('Z', 0, 1) \n",
    "\n",
    "P(X>3) \n"
   ]
  },
  {
   "cell_type": "code",
   "execution_count": 70,
   "id": "67135ae9",
   "metadata": {},
   "outputs": [
    {
     "data": {
      "text/plain": [
       "{1: 1/6, 2: 1/6, 3: 1/6, 4: 1/6, 5: 1/6, 6: 1/6}"
      ]
     },
     "execution_count": 70,
     "metadata": {},
     "output_type": "execute_result"
    }
   ],
   "source": [
    "D6 = Die('D6', 6) # Six sided Die\n",
    "D6=density(D6).dict\n",
    "D6\n"
   ]
  },
  {
   "cell_type": "markdown",
   "id": "5230a028",
   "metadata": {},
   "source": [
    " #### Expectation of the sum of two dice"
   ]
  },
  {
   "cell_type": "code",
   "execution_count": 71,
   "id": "bdabc16a",
   "metadata": {},
   "outputs": [
    {
     "data": {
      "text/latex": [
       "$\\displaystyle 7$"
      ],
      "text/plain": [
       "7"
      ]
     },
     "execution_count": 71,
     "metadata": {},
     "output_type": "execute_result"
    }
   ],
   "source": [
    "E(X+Y)\n",
    "\n"
   ]
  },
  {
   "cell_type": "markdown",
   "id": "bd5793c3",
   "metadata": {},
   "source": [
    "#### Variance of the sum of two dice"
   ]
  },
  {
   "cell_type": "code",
   "execution_count": 72,
   "id": "5a6888aa",
   "metadata": {},
   "outputs": [
    {
     "data": {
      "text/latex": [
       "$\\displaystyle \\frac{35}{6}$"
      ],
      "text/plain": [
       "35/6"
      ]
     },
     "execution_count": 72,
     "metadata": {},
     "output_type": "execute_result"
    }
   ],
   "source": [
    "variance(X+Y) \n"
   ]
  },
  {
   "cell_type": "markdown",
   "id": "996a0a0d",
   "metadata": {},
   "source": [
    "#### Probability of Z being greater than 1"
   ]
  },
  {
   "cell_type": "code",
   "execution_count": 73,
   "id": "15d26191",
   "metadata": {},
   "outputs": [
    {
     "data": {
      "text/latex": [
       "$\\displaystyle \\frac{1}{2} - \\frac{\\operatorname{erf}{\\left(\\frac{\\sqrt{2}}{2} \\right)}}{2}$"
      ],
      "text/plain": [
       "1/2 - erf(sqrt(2)/2)/2"
      ]
     },
     "execution_count": 73,
     "metadata": {},
     "output_type": "execute_result"
    }
   ],
   "source": [
    "\n",
    "simplify(P(Z>1)) \n"
   ]
  },
  {
   "cell_type": "markdown",
   "id": "9a9d9728",
   "metadata": {},
   "source": [
    "# pdf of the Continuous Distribution"
   ]
  },
  {
   "cell_type": "code",
   "execution_count": 74,
   "id": "dfea275d",
   "metadata": {},
   "outputs": [
    {
     "data": {
      "text/latex": [
       "$\\displaystyle 1$"
      ],
      "text/plain": [
       "1"
      ]
     },
     "execution_count": 74,
     "metadata": {},
     "output_type": "execute_result"
    }
   ],
   "source": [
    "\n",
    "x = Symbol('x')\n",
    "pdf = exp(-x) # pdf of the Continuous Distribution\n",
    "Z = ContinuousRV(x, pdf, set=Interval(0, oo))\n",
    "E(Z)\n"
   ]
  },
  {
   "cell_type": "code",
   "execution_count": 75,
   "id": "41424536",
   "metadata": {},
   "outputs": [
    {
     "data": {
      "text/latex": [
       "$\\displaystyle e^{-5}$"
      ],
      "text/plain": [
       "exp(-5)"
      ]
     },
     "execution_count": 75,
     "metadata": {},
     "output_type": "execute_result"
    }
   ],
   "source": [
    "\n",
    "P(Z > 5)\n"
   ]
  },
  {
   "cell_type": "code",
   "execution_count": 76,
   "id": "6a7c6a40",
   "metadata": {},
   "outputs": [
    {
     "data": {
      "text/latex": [
       "$\\displaystyle e^{-5}$"
      ],
      "text/plain": [
       "exp(-5)"
      ]
     },
     "execution_count": 76,
     "metadata": {},
     "output_type": "execute_result"
    }
   ],
   "source": [
    "exp(-5)"
   ]
  },
  {
   "cell_type": "code",
   "execution_count": 77,
   "id": "e76c6735",
   "metadata": {},
   "outputs": [
    {
     "data": {
      "text/plain": [
       "{0: 0.250000000000000, 1: 0.750000000000000}"
      ]
     },
     "execution_count": 77,
     "metadata": {},
     "output_type": "execute_result"
    }
   ],
   "source": [
    "X = Bernoulli('X', (3)/4) # 1-0 Bernoulli variable, probability = 3/4\n",
    "d = density(X).dict\n",
    "d\n",
    "\n"
   ]
  },
  {
   "cell_type": "code",
   "execution_count": 78,
   "id": "4cafc778",
   "metadata": {},
   "outputs": [
    {
     "data": {
      "text/plain": [
       "{Heads: 1/2, Tails: 1/2}"
      ]
     },
     "execution_count": 78,
     "metadata": {},
     "output_type": "execute_result"
    }
   ],
   "source": [
    "from sympy.stats import Bernoulli, density\n",
    "from sympy import S\n",
    "X = Bernoulli('X', S.Half, 'Heads', 'Tails') # A fair coin toss\n",
    "density(X).dict"
   ]
  },
  {
   "cell_type": "markdown",
   "id": "7febfe9e",
   "metadata": {},
   "source": [
    "The density of the Hermite distribution is given by\n",
    "\n",
    "f(x):=e−a1−a2∑j=0⌊x/2⌋ax−2j1aj2(x−2j)!j!"
   ]
  },
  {
   "cell_type": "code",
   "execution_count": 79,
   "id": "3e45e12e",
   "metadata": {},
   "outputs": [
    {
     "data": {
      "text/latex": [
       "$\\displaystyle \\frac{33}{2 e^{9}}$"
      ],
      "text/plain": [
       "33*exp(-9)/2"
      ]
     },
     "execution_count": 79,
     "metadata": {},
     "output_type": "execute_result"
    }
   ],
   "source": [
    "a1 = Symbol(\"a1\", positive=True)\n",
    "a2 = Symbol(\"a2\", positive=True)\n",
    "x = Symbol(\"x\")\n",
    "H = Hermite(\"H\", a1=5, a2=4)\n",
    "\n",
    "density(H)(2)"
   ]
  },
  {
   "cell_type": "code",
   "execution_count": 80,
   "id": "db5c79e6",
   "metadata": {},
   "outputs": [
    {
     "data": {
      "text/latex": [
       "$\\displaystyle 13$"
      ],
      "text/plain": [
       "13"
      ]
     },
     "execution_count": 80,
     "metadata": {},
     "output_type": "execute_result"
    }
   ],
   "source": [
    "E(H)"
   ]
  },
  {
   "cell_type": "markdown",
   "id": "97e51b8b",
   "metadata": {},
   "source": [
    "Density distribution"
   ]
  },
  {
   "cell_type": "code",
   "execution_count": 104,
   "id": "692f755c",
   "metadata": {},
   "outputs": [],
   "source": [
    "\n",
    "k = Symbol(\"k\", positive=True)\n",
    "theta = Symbol(\"theta\", positive=True)\n",
    "z = Symbol(\"z\")\n",
    "X = Gamma(\"x\", k, theta)"
   ]
  },
  {
   "cell_type": "code",
   "execution_count": 103,
   "id": "b6f95154",
   "metadata": {},
   "outputs": [
    {
     "data": {
      "text/latex": [
       "$\\displaystyle \\frac{\\theta^{- k} z^{k - 1} e^{- \\frac{z}{\\theta}}}{\\Gamma\\left(k\\right)}$"
      ],
      "text/plain": [
       "theta**(-k)*z**(k - 1)*exp(-z/theta)/gamma(k)"
      ]
     },
     "execution_count": 103,
     "metadata": {},
     "output_type": "execute_result"
    }
   ],
   "source": [
    "D = density(X)(z)\n",
    "D"
   ]
  },
  {
   "cell_type": "code",
   "execution_count": null,
   "id": "7f48f62f",
   "metadata": {},
   "outputs": [],
   "source": []
  },
  {
   "cell_type": "code",
   "execution_count": 106,
   "id": "f66f2bee",
   "metadata": {},
   "outputs": [
    {
     "data": {
      "text/latex": [
       "$\\displaystyle \\begin{cases} \\frac{k \\gamma\\left(k, \\frac{z}{\\theta}\\right)}{\\Gamma\\left(k + 1\\right)} & \\text{for}\\: z \\geq 0 \\\\0 & \\text{otherwise} \\end{cases}$"
      ],
      "text/plain": [
       "Piecewise((k*lowergamma(k, z/theta)/gamma(k + 1), z >= 0), (0, True))"
      ]
     },
     "execution_count": 106,
     "metadata": {},
     "output_type": "execute_result"
    }
   ],
   "source": [
    "C = cdf(X, meijerg=True)(z)\n",
    "C"
   ]
  },
  {
   "cell_type": "code",
   "execution_count": 107,
   "id": "ed6757cd",
   "metadata": {},
   "outputs": [
    {
     "data": {
      "text/latex": [
       "$\\displaystyle k \\theta$"
      ],
      "text/plain": [
       "k*theta"
      ]
     },
     "execution_count": 107,
     "metadata": {},
     "output_type": "execute_result"
    }
   ],
   "source": [
    "E(X)"
   ]
  },
  {
   "cell_type": "code",
   "execution_count": 108,
   "id": "e5278fb7",
   "metadata": {},
   "outputs": [
    {
     "data": {
      "text/latex": [
       "$\\displaystyle k \\theta^{2}$"
      ],
      "text/plain": [
       "k*theta**2"
      ]
     },
     "execution_count": 108,
     "metadata": {},
     "output_type": "execute_result"
    }
   ],
   "source": [
    "V = variance(X)\n",
    "V"
   ]
  },
  {
   "cell_type": "code",
   "execution_count": 114,
   "id": "3375b61b",
   "metadata": {},
   "outputs": [
    {
     "data": {
      "text/latex": [
       "$\\displaystyle \\frac{\\sqrt{2} e^{- \\frac{\\left(z - 8\\right)^{2}}{50}}}{10 \\sqrt{\\pi}}$"
      ],
      "text/plain": [
       "sqrt(2)*exp(-(z - 8)**2/50)/(10*sqrt(pi))"
      ]
     },
     "execution_count": 114,
     "metadata": {},
     "output_type": "execute_result"
    }
   ],
   "source": [
    "N = Normal('Gaussian', 8, 5)\n",
    "density(N)(z)"
   ]
  },
  {
   "cell_type": "code",
   "execution_count": 115,
   "id": "718c3f45",
   "metadata": {},
   "outputs": [
    {
     "data": {
      "text/latex": [
       "$\\displaystyle 0.0483941449038287$"
      ],
      "text/plain": [
       "0.0483941449038287"
      ]
     },
     "execution_count": 115,
     "metadata": {},
     "output_type": "execute_result"
    }
   ],
   "source": [
    "density(N)(3).evalf()"
   ]
  },
  {
   "cell_type": "code",
   "execution_count": 116,
   "id": "6f0ddf69",
   "metadata": {},
   "outputs": [
    {
     "data": {
      "text/latex": [
       "$\\displaystyle \\frac{\\operatorname{erf}{\\left(\\frac{\\sqrt{2} \\left(z - 8\\right)}{10} \\right)}}{2} + \\frac{1}{2}$"
      ],
      "text/plain": [
       "erf(sqrt(2)*(z - 8)/10)/2 + 1/2"
      ]
     },
     "execution_count": 116,
     "metadata": {},
     "output_type": "execute_result"
    }
   ],
   "source": [
    "simplify(cdf(N)(z))"
   ]
  },
  {
   "cell_type": "code",
   "execution_count": 117,
   "id": "5dfbbf40",
   "metadata": {},
   "outputs": [
    {
     "data": {
      "text/latex": [
       "$\\displaystyle \\frac{\\sqrt{2} \\left(- \\frac{5 \\sqrt{2} \\sqrt{\\pi} \\operatorname{erf}{\\left(\\frac{\\sqrt{2}}{5} \\right)}}{2} + \\frac{5 \\sqrt{2} \\sqrt{\\pi}}{2}\\right)}{10 \\sqrt{\\pi}}$"
      ],
      "text/plain": [
       "sqrt(2)*(-5*sqrt(2)*sqrt(pi)*erf(sqrt(2)/5)/2 + 5*sqrt(2)*sqrt(pi)/2)/(10*sqrt(pi))"
      ]
     },
     "execution_count": 117,
     "metadata": {},
     "output_type": "execute_result"
    }
   ],
   "source": [
    "P(N > 10)"
   ]
  },
  {
   "cell_type": "code",
   "execution_count": 118,
   "id": "005ccaa2",
   "metadata": {},
   "outputs": [
    {
     "data": {
      "text/latex": [
       "$\\displaystyle \\frac{\\sqrt{2} \\left(- \\frac{5 \\sqrt{2} \\sqrt{\\pi} \\operatorname{erf}{\\left(\\frac{\\sqrt{2}}{5} \\right)}}{2} + \\frac{5 \\sqrt{2} \\sqrt{\\pi}}{2}\\right)}{10 \\sqrt{\\pi}}$"
      ],
      "text/plain": [
       "sqrt(2)*(-5*sqrt(2)*sqrt(pi)*erf(sqrt(2)/5)/2 + 5*sqrt(2)*sqrt(pi)/2)/(10*sqrt(pi))"
      ]
     },
     "execution_count": 118,
     "metadata": {},
     "output_type": "execute_result"
    }
   ],
   "source": [
    "P(N > 10)"
   ]
  },
  {
   "cell_type": "code",
   "execution_count": null,
   "id": "26c8b3e8",
   "metadata": {},
   "outputs": [],
   "source": []
  },
  {
   "cell_type": "code",
   "execution_count": 136,
   "id": "b210ec6a",
   "metadata": {},
   "outputs": [
    {
     "data": {
      "text/latex": [
       "$\\displaystyle \\int\\limits_{0}^{0.5} \\frac{x^{2}}{\\left(1 - x^{2}\\right)^{1.5}}\\, dx$"
      ],
      "text/plain": [
       "Integral(x**2*(1 - x**2)**(-1.5), (x, 0, 0.5))"
      ]
     },
     "execution_count": 136,
     "metadata": {},
     "output_type": "execute_result"
    }
   ],
   "source": [
    "expr = Integral((x**2)/((1-x**2))**(3/2), (x, 0, 1/2))\n",
    "expr"
   ]
  },
  {
   "cell_type": "code",
   "execution_count": 137,
   "id": "a102742f",
   "metadata": {},
   "outputs": [
    {
     "data": {
      "text/latex": [
       "$\\displaystyle 0.0537514935913269$"
      ],
      "text/plain": [
       "0.0537514935913269"
      ]
     },
     "execution_count": 137,
     "metadata": {},
     "output_type": "execute_result"
    }
   ],
   "source": [
    "expr.evalf()"
   ]
  },
  {
   "cell_type": "code",
   "execution_count": 141,
   "id": "5f347abb",
   "metadata": {},
   "outputs": [
    {
     "data": {
      "text/latex": [
       "$\\displaystyle \\int\\limits_{0}^{0.5} x \\tan{\\left(x^{2} \\right)}\\, dx$"
      ],
      "text/plain": [
       "Integral(x*tan(x**2), (x, 0, 0.5))"
      ]
     },
     "execution_count": 141,
     "metadata": {},
     "output_type": "execute_result"
    }
   ],
   "source": [
    "expr = Integral(x*tan(x**2), (x, 0, 1/2))\n",
    "expr"
   ]
  },
  {
   "cell_type": "code",
   "execution_count": 153,
   "id": "81c0ea9a",
   "metadata": {},
   "outputs": [
    {
     "data": {
      "text/latex": [
       "$\\displaystyle -8.0$"
      ],
      "text/plain": [
       "-0.e+1"
      ]
     },
     "execution_count": 153,
     "metadata": {},
     "output_type": "execute_result"
    }
   ],
   "source": [
    "expr.evalf()"
   ]
  },
  {
   "cell_type": "code",
   "execution_count": 167,
   "id": "48428447",
   "metadata": {},
   "outputs": [
    {
     "data": {
      "text/latex": [
       "$\\displaystyle \\int\\limits_{0}^{\\pi} \\frac{- \\sin{\\left(a \\right)} + \\cos{\\left(a \\right)}}{\\sin{\\left(a \\right)} + \\cos{\\left(a \\right)}}\\, da$"
      ],
      "text/plain": [
       "Integral((-sin(a) + cos(a))/(sin(a) + cos(a)), (a, 0, pi))"
      ]
     },
     "execution_count": 167,
     "metadata": {},
     "output_type": "execute_result"
    }
   ],
   "source": [
    "a = Symbol('a')\n",
    "expr = Integral((cos(a)-sin(a))/(sin(a)+cos(a)), (a, 0, pi))\n",
    "expr"
   ]
  },
  {
   "cell_type": "code",
   "execution_count": 168,
   "id": "dd46912f",
   "metadata": {},
   "outputs": [
    {
     "data": {
      "text/latex": [
       "$\\displaystyle 1.0$"
      ],
      "text/plain": [
       "0.e+0"
      ]
     },
     "execution_count": 168,
     "metadata": {},
     "output_type": "execute_result"
    }
   ],
   "source": [
    "expr.evalf()"
   ]
  },
  {
   "cell_type": "markdown",
   "id": "5d501261",
   "metadata": {},
   "source": [
    "#### A fair coin toss"
   ]
  },
  {
   "cell_type": "code",
   "execution_count": 180,
   "id": "22f5fe5c",
   "metadata": {},
   "outputs": [
    {
     "data": {
      "text/plain": [
       "{H: 1/2, T: 1/2}"
      ]
     },
     "execution_count": 180,
     "metadata": {},
     "output_type": "execute_result"
    }
   ],
   "source": [
    "from sympy.stats import Coin, density\n",
    "from sympy import Rational\n",
    "C = Coin('C')\n",
    "density(C).dict"
   ]
  },
  {
   "cell_type": "markdown",
   "id": "66a45df6",
   "metadata": {},
   "source": [
    "#### An unfair coin"
   ]
  },
  {
   "cell_type": "code",
   "execution_count": 192,
   "id": "8fd63403",
   "metadata": {},
   "outputs": [
    {
     "data": {
      "text/plain": [
       "{H: 3/7, T: 4/7}"
      ]
     },
     "execution_count": 192,
     "metadata": {},
     "output_type": "execute_result"
    }
   ],
   "source": [
    "C2 = Coin('C2', Rational(3, 7)) # An unfair coin\n",
    "density(C2).dict"
   ]
  },
  {
   "cell_type": "markdown",
   "id": "6081b9cc",
   "metadata": {},
   "source": [
    "#### six coin flips"
   ]
  },
  {
   "cell_type": "code",
   "execution_count": 185,
   "id": "25696f42",
   "metadata": {},
   "outputs": [
    {
     "data": {
      "text/plain": [
       "{0: 1/64, 1: 3/32, 2: 15/64, 3: 5/16, 4: 15/64, 5: 3/32, 6: 1/64}"
      ]
     },
     "execution_count": 185,
     "metadata": {},
     "output_type": "execute_result"
    }
   ],
   "source": [
    "X = Binomial('X', 6, S.Half) \n",
    "density(X).dict"
   ]
  },
  {
   "cell_type": "markdown",
   "id": "a55f3f80",
   "metadata": {},
   "source": [
    "#### 10 marbles, 5 white (success), 3 draws"
   ]
  },
  {
   "cell_type": "code",
   "execution_count": 199,
   "id": "33e55146",
   "metadata": {},
   "outputs": [
    {
     "data": {
      "text/plain": [
       "{0: 1/12, 1: 5/12, 2: 5/12, 3: 1/12}"
      ]
     },
     "execution_count": 199,
     "metadata": {},
     "output_type": "execute_result"
    }
   ],
   "source": [
    "X = Hypergeometric('X', 10, 5, 3) \n",
    "density(X).dict\n"
   ]
  },
  {
   "cell_type": "code",
   "execution_count": null,
   "id": "b32d4329",
   "metadata": {},
   "outputs": [],
   "source": []
  },
  {
   "cell_type": "code",
   "execution_count": 202,
   "id": "d1c33e7f",
   "metadata": {},
   "outputs": [
    {
     "data": {
      "text/latex": [
       "$\\displaystyle 2.0$"
      ],
      "text/plain": [
       "2.00000000000000"
      ]
     },
     "execution_count": 202,
     "metadata": {},
     "output_type": "execute_result"
    }
   ],
   "source": [
    "density = {0: .1, 1: .2, 2: .3, 3: .4}\n",
    "X = FiniteRV('X', density)\n",
    "E(X)\n",
    "\n"
   ]
  },
  {
   "cell_type": "code",
   "execution_count": 203,
   "id": "5c08cc12",
   "metadata": {},
   "outputs": [
    {
     "data": {
      "text/latex": [
       "$\\displaystyle 0.7$"
      ],
      "text/plain": [
       "0.700000000000000"
      ]
     },
     "execution_count": 203,
     "metadata": {},
     "output_type": "execute_result"
    }
   ],
   "source": [
    "P(X>=2)"
   ]
  },
  {
   "cell_type": "code",
   "execution_count": 275,
   "id": "39ed30f3",
   "metadata": {},
   "outputs": [
    {
     "data": {
      "text/latex": [
       "$\\displaystyle \\left[\\begin{matrix}105\\\\129\\\\87\\\\86\\\\111\\\\111\\\\89\\\\81\\\\108\\\\92\\\\110\\\\100\\\\75\\\\105\\\\103\\\\109\\\\76\\\\119\\\\99\\\\91\\\\103\\\\129\\\\106\\\\101\\\\84\\\\111\\\\74\\\\87\\\\86\\\\103\\\\103\\\\106\\\\86\\\\111\\\\75\\\\87\\\\102\\\\121\\\\111\\\\88\\\\89\\\\101\\\\106\\\\95\\\\103\\\\107\\\\101\\\\81\\\\109\\\\104\\end{matrix}\\right]$"
      ],
      "text/plain": [
       "Matrix([\n",
       "[105],\n",
       "[129],\n",
       "[ 87],\n",
       "[ 86],\n",
       "[111],\n",
       "[111],\n",
       "[ 89],\n",
       "[ 81],\n",
       "[108],\n",
       "[ 92],\n",
       "[110],\n",
       "[100],\n",
       "[ 75],\n",
       "[105],\n",
       "[103],\n",
       "[109],\n",
       "[ 76],\n",
       "[119],\n",
       "[ 99],\n",
       "[ 91],\n",
       "[103],\n",
       "[129],\n",
       "[106],\n",
       "[101],\n",
       "[ 84],\n",
       "[111],\n",
       "[ 74],\n",
       "[ 87],\n",
       "[ 86],\n",
       "[103],\n",
       "[103],\n",
       "[106],\n",
       "[ 86],\n",
       "[111],\n",
       "[ 75],\n",
       "[ 87],\n",
       "[102],\n",
       "[121],\n",
       "[111],\n",
       "[ 88],\n",
       "[ 89],\n",
       "[101],\n",
       "[106],\n",
       "[ 95],\n",
       "[103],\n",
       "[107],\n",
       "[101],\n",
       "[ 81],\n",
       "[109],\n",
       "[104]])"
      ]
     },
     "execution_count": 275,
     "metadata": {},
     "output_type": "execute_result"
    }
   ],
   "source": [
    "# Decile cut points for empirically sampled data\n",
    "data = [\n",
    "    105, 129, 87, 86, 111, 111, 89, 81, 108, 92, 110,\n",
    "    100, 75, 105, 103, 109, 76, 119, 99, 91, 103, 129,\n",
    "    106, 101, 84, 111, 74, 87, 86, 103, 103, 106, 86,\n",
    "    111, 75, 87, 102, 121, 111, 88, 89, 101, 106, 95,\n",
    "    103, 107, 101, 81, 109, 104]\n",
    "data = Matrix(data)\n",
    "data\n",
    "\n",
    "\n",
    "\n"
   ]
  },
  {
   "cell_type": "code",
   "execution_count": 276,
   "id": "11cb20bc",
   "metadata": {},
   "outputs": [
    {
     "name": "stdout",
     "output_type": "stream",
     "text": [
      "mean: 2478/25\n",
      "median: 205/2\n",
      "max: 129\n",
      "min: 74\n"
     ]
    }
   ],
   "source": [
    "print(f\"mean: {np.mean(data)}\")\n",
    "print(f\"median: {np.median(data)}\")\n",
    "print(f\"max: {np.max(data)}\")\n",
    "print(f\"min: {np.min(data)}\")"
   ]
  },
  {
   "cell_type": "code",
   "execution_count": 257,
   "id": "34eaf7b0",
   "metadata": {},
   "outputs": [
    {
     "data": {
      "image/png": "[encoded data removed]",
      "text/plain": [
       "<Figure size 432x288 with 1 Axes>"
      ]
     },
     "metadata": {
      "needs_background": "light"
     },
     "output_type": "display_data"
    }
   ],
   "source": [
    "import matplotlib.pyplot as plt\n",
    "rng = np.random.RandomState(1000)  # deterministic random data\n",
    "a = np.hstack((rng.normal(size=10),\n",
    "               rng.normal(loc=5, scale=2, size=1000000)))\n",
    "_ = plt.hist(a, bins='auto')  # arguments are passed to np.histogram\n",
    "plt.title(\"Histogram with auto bins\")\n",
    "plt.xlabel(\"X\")\n",
    "plt.ylabel(\"Y\")\n",
    "plt.grid('on')\n",
    "plt.show()"
   ]
  },
  {
   "cell_type": "code",
   "execution_count": 271,
   "id": "16a5e828",
   "metadata": {},
   "outputs": [
    {
     "data": {
      "text/latex": [
       "$\\displaystyle \\left[\\begin{matrix}0.773956048555963 & 0.438878439752052 & 0.858597919911382\\\\0.697368029059364 & 0.0941773478876495 & 0.975622351636756\\\\0.761139701990353 & 0.786064305276954 & 0.128113632675546\\\\0.450385937895567 & 0.370798024232581 & 0.926764988848602\\\\0.643865120080665 & 0.82276161327083 & 0.443414198827331\\\\0.227238721784777 & 0.554584787015835 & 0.0638172561041753\\\\0.827631171992582 & 0.631664399122065 & 0.758087740085374\\\\0.354525968129868 & 0.970698024394903 & 0.893121121322198\\\\0.778383497073762 & 0.194638707851968 & 0.466721003727034\\\\0.0438037657872288 & 0.154289492067548 & 0.683048953242455\\end{matrix}\\right]$"
      ],
      "text/plain": [
       "Matrix([\n",
       "[ 0.773956048555963,  0.438878439752052,  0.858597919911382],\n",
       "[ 0.697368029059364, 0.0941773478876495,  0.975622351636756],\n",
       "[ 0.761139701990353,  0.786064305276954,  0.128113632675546],\n",
       "[ 0.450385937895567,  0.370798024232581,  0.926764988848602],\n",
       "[ 0.643865120080665,   0.82276161327083,  0.443414198827331],\n",
       "[ 0.227238721784777,  0.554584787015835, 0.0638172561041753],\n",
       "[ 0.827631171992582,  0.631664399122065,  0.758087740085374],\n",
       "[ 0.354525968129868,  0.970698024394903,  0.893121121322198],\n",
       "[ 0.778383497073762,  0.194638707851968,  0.466721003727034],\n",
       "[0.0438037657872288,  0.154289492067548,  0.683048953242455]])"
      ]
     },
     "execution_count": 271,
     "metadata": {},
     "output_type": "execute_result"
    }
   ],
   "source": [
    "import numpy as np\n",
    "rng = np.random.default_rng(seed=42)\n",
    "xarr = rng.random((10, 3))\n",
    "Matrix(xarr)"
   ]
  },
  {
   "cell_type": "code",
   "execution_count": 270,
   "id": "c97bb473",
   "metadata": {},
   "outputs": [
    {
     "data": {
      "text/latex": [
       "$\\displaystyle \\left[\\begin{matrix}1.0 & 0.992560889895716 & -0.680809862703173 & 0.750081778836813 & -0.934284002246054 & -0.990040569340837 & 0.852835334126026 & -0.432799061417911 & 0.728568533061065 & 0.5252780846785\\\\0.992560889895716 & 1.0 & -0.764921721958906 & 0.825020106247449 & -0.970740980154491 & -0.999815694475533 & 0.782915981806022 & -0.31982363945854 & 0.639753693073741 & 0.624970648847191\\\\-0.680809862703173 & -0.764921721958906 & 1.0 & -0.995072021887505 & 0.897213550835835 & 0.77714685357025 & -0.198142686149705 & -0.365651973298037 & 0.00569874804630297 & -0.980887310739854\\\\0.750081778836813 & 0.825020106247449 & -0.995072021887505 & 1.0 & -0.936578549959927 & -0.83571710930261 & 0.294355104268334 & 0.271561569227004 & 0.0934825095202684 & 0.95676031099576\\\\-0.934284002246054 & -0.970740980154491 & 0.897213550835835 & -0.936578549959927 & 1.0 & 0.975172151065401 & -0.610617768256713 & 0.0829491613800622 & -0.436476760411423 & -0.794140924342129\\\\-0.990040569340837 & -0.999815694475533 & 0.77714685357025 & -0.83571710930261 & 0.975172151065401 & 1.0 & -0.770827858422581 & 0.301574686567643 & -0.624880306382207 & -0.63984263050659\\\\0.852835334126026 & 0.782915981806022 & -0.198142686149705 & 0.294355104268334 & -0.610617768256713 & -0.770827858422581 & 1.0 & -0.839846546856043 & 0.979028105405526 & 0.00363680400721478\\\\-0.432799061417911 & -0.31982363945854 & -0.365651973298037 & 0.271561569227004 & 0.0829491613800622 & 0.301574686567643 & -0.839846546856043 & 1.0 & -0.932820295165773 & 0.539765944920807\\\\0.728568533061065 & 0.639753693073741 & 0.00569874804630297 & 0.0934825095202684 & -0.436476760411423 & -0.624880306382207 & 0.979028105405526 & -0.932820295165773 & 1.0 & -0.200163348130923\\\\0.5252780846785 & 0.624970648847191 & -0.980887310739854 & 0.95676031099576 & -0.794140924342129 & -0.63984263050659 & 0.00363680400721478 & 0.539765944920807 & -0.200163348130923 & 1.0\\end{matrix}\\right]$"
      ],
      "text/plain": [
       "Matrix([\n",
       "[               1.0,  0.992560889895716,  -0.680809862703173,  0.750081778836813, -0.934284002246054, -0.990040569340837,   0.852835334126026, -0.432799061417911,   0.728568533061065,     0.5252780846785],\n",
       "[ 0.992560889895716,                1.0,  -0.764921721958906,  0.825020106247449, -0.970740980154491, -0.999815694475533,   0.782915981806022,  -0.31982363945854,   0.639753693073741,   0.624970648847191],\n",
       "[-0.680809862703173, -0.764921721958906,                 1.0, -0.995072021887505,  0.897213550835835,   0.77714685357025,  -0.198142686149705, -0.365651973298037, 0.00569874804630297,  -0.980887310739854],\n",
       "[ 0.750081778836813,  0.825020106247449,  -0.995072021887505,                1.0, -0.936578549959927,  -0.83571710930261,   0.294355104268334,  0.271561569227004,  0.0934825095202684,    0.95676031099576],\n",
       "[-0.934284002246054, -0.970740980154491,   0.897213550835835, -0.936578549959927,                1.0,  0.975172151065401,  -0.610617768256713, 0.0829491613800622,  -0.436476760411423,  -0.794140924342129],\n",
       "[-0.990040569340837, -0.999815694475533,    0.77714685357025,  -0.83571710930261,  0.975172151065401,                1.0,  -0.770827858422581,  0.301574686567643,  -0.624880306382207,   -0.63984263050659],\n",
       "[ 0.852835334126026,  0.782915981806022,  -0.198142686149705,  0.294355104268334, -0.610617768256713, -0.770827858422581,                 1.0, -0.839846546856043,   0.979028105405526, 0.00363680400721478],\n",
       "[-0.432799061417911,  -0.31982363945854,  -0.365651973298037,  0.271561569227004, 0.0829491613800622,  0.301574686567643,  -0.839846546856043,                1.0,  -0.932820295165773,   0.539765944920807],\n",
       "[ 0.728568533061065,  0.639753693073741, 0.00569874804630297, 0.0934825095202684, -0.436476760411423, -0.624880306382207,   0.979028105405526, -0.932820295165773,                 1.0,  -0.200163348130923],\n",
       "[   0.5252780846785,  0.624970648847191,  -0.980887310739854,   0.95676031099576, -0.794140924342129,  -0.63984263050659, 0.00363680400721478,  0.539765944920807,  -0.200163348130923,                 1.0]])"
      ]
     },
     "execution_count": 270,
     "metadata": {},
     "output_type": "execute_result"
    }
   ],
   "source": [
    "R1 = np.corrcoef(xarr)\n",
    "Matrix(R1)"
   ]
  },
  {
   "cell_type": "code",
   "execution_count": 284,
   "id": "7f5ecc02",
   "metadata": {},
   "outputs": [
    {
     "data": {
      "text/plain": [
       "array([-0.8044583 ,  0.32093155, -0.02548288, ...,  5.36385104,\n",
       "        6.28919546,  7.53303482])"
      ]
     },
     "execution_count": 284,
     "metadata": {},
     "output_type": "execute_result"
    }
   ],
   "source": [
    "import matplotlib.pyplot as plt\n",
    "rng = np.random.RandomState(1000)  # deterministic random data\n",
    "a = np.hstack((rng.normal(size=10),\n",
    "               rng.normal(loc=5, scale=2, size=1000000)))\n",
    "a"
   ]
  },
  {
   "cell_type": "code",
   "execution_count": null,
   "id": "e51ba27d",
   "metadata": {},
   "outputs": [],
   "source": []
  },
  {
   "cell_type": "code",
   "execution_count": 290,
   "id": "0ba95888",
   "metadata": {},
   "outputs": [
    {
     "data": {
      "text/latex": [
       "$\\displaystyle \\left[\\begin{matrix}0.841344746068543\\\\0.158655253931457\\\\0.5\\\\0.841344746068543\\\\0.99865010196837\\\\0.999968328758167\\\\0.0227501319481792\\\\0.999999999013412\\end{matrix}\\right]$"
      ],
      "text/plain": [
       "Matrix([\n",
       "[ 0.841344746068543],\n",
       "[ 0.158655253931457],\n",
       "[               0.5],\n",
       "[ 0.841344746068543],\n",
       "[  0.99865010196837],\n",
       "[ 0.999968328758167],\n",
       "[0.0227501319481792],\n",
       "[ 0.999999999013412]])"
      ]
     },
     "execution_count": 290,
     "metadata": {},
     "output_type": "execute_result"
    }
   ],
   "source": [
    "from scipy import misc\n",
    "import matplotlib.pyplot as plt\n",
    "from scipy.stats import norm\n",
    "from sympy import *\n",
    "\n",
    "Matrix(norm.cdf(np.array([1,-1., 0, 1, 3, 4, -2, 6])))"
   ]
  },
  {
   "cell_type": "markdown",
   "id": "6a958ac1",
   "metadata": {},
   "source": [
    "To find the median of a distribution, we can use the Percent Point Function (PPF), which is the inverse of the CDF. Let us understand by using the following example."
   ]
  },
  {
   "cell_type": "code",
   "execution_count": 293,
   "id": "df0ebbaa",
   "metadata": {},
   "outputs": [
    {
     "data": {
      "text/plain": [
       "-0.2533471031357997"
      ]
     },
     "execution_count": 293,
     "metadata": {},
     "output_type": "execute_result"
    }
   ],
   "source": [
    "norm.ppf(0.4)"
   ]
  },
  {
   "cell_type": "markdown",
   "id": "5ee3a93c",
   "metadata": {},
   "source": [
    "Calculates the T-test for the mean of ONE group of scores. This is a two-sided test for the null hypothesis that the expected value (mean) of a sample of independent observations ‘a’ is equal to the given population mean, popmean. Let us consider the following example."
   ]
  },
  {
   "cell_type": "code",
   "execution_count": 294,
   "id": "a477ea3c",
   "metadata": {},
   "outputs": [
    {
     "data": {
      "text/plain": [
       "Ttest_1sampResult(statistic=array([-0.21908554, -0.47334685]), pvalue=array([0.82749345, 0.63806781]))"
      ]
     },
     "execution_count": 294,
     "metadata": {},
     "output_type": "execute_result"
    }
   ],
   "source": [
    "from scipy import stats\n",
    "rvs = stats.norm.rvs(loc = 5, scale = 10, size = (50,2))\n",
    "stats.ttest_1samp(rvs,5.0)"
   ]
  },
  {
   "cell_type": "markdown",
   "id": "e951a698",
   "metadata": {},
   "source": [
    "Several of these functions have a similar version in the scipy.stats.mstats, which work for masked arrays. Let us understand this with the example given below."
   ]
  },
  {
   "cell_type": "code",
   "execution_count": 299,
   "id": "b0ca946a",
   "metadata": {},
   "outputs": [
    {
     "data": {
      "text/plain": [
       "(9, 1, 5.0, 6.666666666666667)"
      ]
     },
     "execution_count": 299,
     "metadata": {},
     "output_type": "execute_result"
    }
   ],
   "source": [
    "x = np.array([1,2,3,4,5,6,7,8,9])\n",
    "x.max(),x.min(),x.mean(),x.var()"
   ]
  },
  {
   "cell_type": "code",
   "execution_count": null,
   "id": "df74d8a8",
   "metadata": {},
   "outputs": [],
   "source": []
  },
  {
   "cell_type": "code",
   "execution_count": null,
   "id": "a9ebe1e3",
   "metadata": {},
   "outputs": [],
   "source": []
  }
 ],
 "metadata": {
  "kernelspec": {
   "display_name": "Python 3",
   "language": "python",
   "name": "python3"
  },
  "language_info": {
   "codemirror_mode": {
    "name": "ipython",
    "version": 3
   },
   "file_extension": ".py",
   "mimetype": "text/x-python",
   "name": "python",
   "nbconvert_exporter": "python",
   "pygments_lexer": "ipython3",
   "version": "3.8.10"
  }
 },
 "nbformat": 4,
 "nbformat_minor": 5
}
