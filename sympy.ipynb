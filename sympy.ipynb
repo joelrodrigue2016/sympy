{
 "cells": [
  {
   "cell_type": "code",
   "execution_count": 139,
   "id": "e725f379",
   "metadata": {},
   "outputs": [
    {
     "name": "stdout",
     "output_type": "stream",
     "text": [
      "Modules loaded successfully!\n"
     ]
    }
   ],
   "source": [
    "try:\n",
    "    import numpy as np\n",
    "    from matplotlib import pyplot as plt\n",
    "    from sympy import *\n",
    "    print(\"Modules loaded successfully!\")\n",
    "    from sympy.abc import *\n",
    "except ModuleNotFoundError:\n",
    "    print(\"There was a problem with your module(s)\")"
   ]
  },
  {
   "cell_type": "code",
   "execution_count": 13,
   "id": "40110402",
   "metadata": {},
   "outputs": [
    {
     "data": {
      "text/plain": [
       "4.242640687119285"
      ]
     },
     "execution_count": 13,
     "metadata": {},
     "output_type": "execute_result"
    }
   ],
   "source": [
    "18**(1/2)"
   ]
  },
  {
   "cell_type": "code",
   "execution_count": 14,
   "id": "96ebd8d5",
   "metadata": {},
   "outputs": [
    {
     "data": {
      "text/latex": [
       "$\\displaystyle 3 \\sqrt{2}$"
      ],
      "text/plain": [
       "3*sqrt(2)"
      ]
     },
     "execution_count": 14,
     "metadata": {},
     "output_type": "execute_result"
    }
   ],
   "source": [
    "sqrt(18)"
   ]
  },
  {
   "cell_type": "code",
   "execution_count": 16,
   "id": "29c4d9d0",
   "metadata": {},
   "outputs": [
    {
     "data": {
      "text/latex": [
       "$\\displaystyle \\frac{5}{3}$"
      ],
      "text/plain": [
       "5/3"
      ]
     },
     "execution_count": 16,
     "metadata": {},
     "output_type": "execute_result"
    }
   ],
   "source": [
    "frac = Rational(25,15)\n",
    "frac"
   ]
  },
  {
   "cell_type": "code",
   "execution_count": 18,
   "id": "a230f685",
   "metadata": {},
   "outputs": [
    {
     "data": {
      "text/latex": [
       "$\\displaystyle 3 x + y$"
      ],
      "text/plain": [
       "3*x + y"
      ]
     },
     "execution_count": 18,
     "metadata": {},
     "output_type": "execute_result"
    }
   ],
   "source": [
    "x,y = symbols(\"x,y\")\n",
    "expr = 3*x+y\n",
    "expr"
   ]
  },
  {
   "cell_type": "code",
   "execution_count": 20,
   "id": "46196641",
   "metadata": {},
   "outputs": [
    {
     "data": {
      "text/latex": [
       "$\\displaystyle 2 x^{9} + 3 x + y$"
      ],
      "text/plain": [
       "2*x**9 + 3*x + y"
      ]
     },
     "execution_count": 20,
     "metadata": {},
     "output_type": "execute_result"
    }
   ],
   "source": [
    "x,y = symbols(\"x,y\")\n",
    "expr = 3*x+y\n",
    "expr+2*x**9"
   ]
  },
  {
   "cell_type": "code",
   "execution_count": 22,
   "id": "2f2d09f0",
   "metadata": {},
   "outputs": [
    {
     "data": {
      "text/latex": [
       "$\\displaystyle 2 x + 1$"
      ],
      "text/plain": [
       "2*x + 1"
      ]
     },
     "execution_count": 22,
     "metadata": {},
     "output_type": "execute_result"
    }
   ],
   "source": [
    "expr = (6*x**2+3*x)/(3*x)\n",
    "expr\n",
    "\n",
    "simplify(expr)"
   ]
  },
  {
   "cell_type": "code",
   "execution_count": 25,
   "id": "30ce3919",
   "metadata": {},
   "outputs": [
    {
     "data": {
      "text/plain": [
       "[-1/2, 0]"
      ]
     },
     "execution_count": 25,
     "metadata": {},
     "output_type": "execute_result"
    }
   ],
   "source": [
    "expr = (6*x**2+3*x)*3*x\n",
    "\n",
    "solve(expr)\n"
   ]
  },
  {
   "cell_type": "code",
   "execution_count": 27,
   "id": "aae4b8fb",
   "metadata": {},
   "outputs": [
    {
     "data": {
      "text/latex": [
       "$\\displaystyle 2 x + \\sin^{2}{\\left(x \\right)}$"
      ],
      "text/plain": [
       "2*x + sin(x)**2"
      ]
     },
     "execution_count": 27,
     "metadata": {},
     "output_type": "execute_result"
    }
   ],
   "source": [
    "expr = sin(x)**2+2*x\n",
    "expr"
   ]
  },
  {
   "cell_type": "code",
   "execution_count": 28,
   "id": "5e7c86aa",
   "metadata": {},
   "outputs": [
    {
     "data": {
      "text/latex": [
       "$\\displaystyle x^{2} + \\frac{x}{2} - \\frac{\\sin{\\left(x \\right)} \\cos{\\left(x \\right)}}{2}$"
      ],
      "text/plain": [
       "x**2 + x/2 - sin(x)*cos(x)/2"
      ]
     },
     "execution_count": 28,
     "metadata": {},
     "output_type": "execute_result"
    }
   ],
   "source": [
    "integrate(expr)"
   ]
  },
  {
   "cell_type": "code",
   "execution_count": 29,
   "id": "a9cc8960",
   "metadata": {},
   "outputs": [
    {
     "data": {
      "text/latex": [
       "$\\displaystyle \\frac{\\cos{\\left(x - \\frac{\\pi}{2} \\right)}}{\\cos{\\left(x \\right)}}$"
      ],
      "text/plain": [
       "cos(x - pi/2)/cos(x)"
      ]
     },
     "execution_count": 29,
     "metadata": {},
     "output_type": "execute_result"
    }
   ],
   "source": [
    "tan(x).rewrite(cos)"
   ]
  },
  {
   "cell_type": "code",
   "execution_count": 30,
   "id": "8d3e60f6",
   "metadata": {},
   "outputs": [
    {
     "name": "stdout",
     "output_type": "stream",
     "text": [
      "x^{2} + \\frac{x}{2} - \\frac{\\sin{\\left(x \\right)} \\cos{\\left(x \\right)}}{2}\n"
     ]
    }
   ],
   "source": [
    "print(latex(integrate(expr)))"
   ]
  },
  {
   "cell_type": "code",
   "execution_count": 60,
   "id": "b0109e41",
   "metadata": {},
   "outputs": [],
   "source": [
    "a = sin(x)**9+5*x**5\n",
    "a1 =diff(a)\n",
    "a2 =diff(a1)\n",
    "a3 =diff(a2)\n",
    "a4 =diff(a3)\n",
    "a5 =diff(a4)\n",
    "a6 =diff(a5)\n",
    "a7 =diff(a6)\n",
    "a8 =diff(a7)\n",
    "a9 =diff(a8)\n"
   ]
  },
  {
   "cell_type": "code",
   "execution_count": 61,
   "id": "98120928",
   "metadata": {},
   "outputs": [
    {
     "data": {
      "text/latex": [
       "$\\displaystyle 25 x^{4} + 9 \\sin^{8}{\\left(x \\right)} \\cos{\\left(x \\right)}$"
      ],
      "text/plain": [
       "25*x**4 + 9*sin(x)**8*cos(x)"
      ]
     },
     "execution_count": 61,
     "metadata": {},
     "output_type": "execute_result"
    }
   ],
   "source": [
    "a1"
   ]
  },
  {
   "cell_type": "code",
   "execution_count": 62,
   "id": "b8513254",
   "metadata": {},
   "outputs": [
    {
     "data": {
      "text/latex": [
       "$\\displaystyle 100 x^{3} - 9 \\sin^{9}{\\left(x \\right)} + 72 \\sin^{7}{\\left(x \\right)} \\cos^{2}{\\left(x \\right)}$"
      ],
      "text/plain": [
       "100*x**3 - 9*sin(x)**9 + 72*sin(x)**7*cos(x)**2"
      ]
     },
     "execution_count": 62,
     "metadata": {},
     "output_type": "execute_result"
    }
   ],
   "source": [
    "a2"
   ]
  },
  {
   "cell_type": "code",
   "execution_count": 63,
   "id": "cfbadd8f",
   "metadata": {},
   "outputs": [
    {
     "data": {
      "text/latex": [
       "$\\displaystyle 300 x^{2} - 225 \\sin^{8}{\\left(x \\right)} \\cos{\\left(x \\right)} + 504 \\sin^{6}{\\left(x \\right)} \\cos^{3}{\\left(x \\right)}$"
      ],
      "text/plain": [
       "300*x**2 - 225*sin(x)**8*cos(x) + 504*sin(x)**6*cos(x)**3"
      ]
     },
     "execution_count": 63,
     "metadata": {},
     "output_type": "execute_result"
    }
   ],
   "source": [
    "a3"
   ]
  },
  {
   "cell_type": "code",
   "execution_count": 64,
   "id": "797a9ffe",
   "metadata": {},
   "outputs": [
    {
     "data": {
      "text/latex": [
       "$\\displaystyle 600 x + 225 \\sin^{9}{\\left(x \\right)} - 3312 \\sin^{7}{\\left(x \\right)} \\cos^{2}{\\left(x \\right)} + 3024 \\sin^{5}{\\left(x \\right)} \\cos^{4}{\\left(x \\right)}$"
      ],
      "text/plain": [
       "600*x + 225*sin(x)**9 - 3312*sin(x)**7*cos(x)**2 + 3024*sin(x)**5*cos(x)**4"
      ]
     },
     "execution_count": 64,
     "metadata": {},
     "output_type": "execute_result"
    }
   ],
   "source": [
    "a4"
   ]
  },
  {
   "cell_type": "code",
   "execution_count": 65,
   "id": "719b1d67",
   "metadata": {},
   "outputs": [
    {
     "data": {
      "text/latex": [
       "$\\displaystyle 8649 \\sin^{8}{\\left(x \\right)} \\cos{\\left(x \\right)} - 35280 \\sin^{6}{\\left(x \\right)} \\cos^{3}{\\left(x \\right)} + 15120 \\sin^{4}{\\left(x \\right)} \\cos^{5}{\\left(x \\right)} + 600$"
      ],
      "text/plain": [
       "8649*sin(x)**8*cos(x) - 35280*sin(x)**6*cos(x)**3 + 15120*sin(x)**4*cos(x)**5 + 600"
      ]
     },
     "execution_count": 65,
     "metadata": {},
     "output_type": "execute_result"
    }
   ],
   "source": [
    "a5"
   ]
  },
  {
   "cell_type": "code",
   "execution_count": 66,
   "id": "62e31754",
   "metadata": {},
   "outputs": [
    {
     "data": {
      "text/latex": [
       "$\\displaystyle - 8649 \\sin^{9}{\\left(x \\right)} + 175032 \\sin^{7}{\\left(x \\right)} \\cos^{2}{\\left(x \\right)} - 287280 \\sin^{5}{\\left(x \\right)} \\cos^{4}{\\left(x \\right)} + 60480 \\sin^{3}{\\left(x \\right)} \\cos^{6}{\\left(x \\right)}$"
      ],
      "text/plain": [
       "-8649*sin(x)**9 + 175032*sin(x)**7*cos(x)**2 - 287280*sin(x)**5*cos(x)**4 + 60480*sin(x)**3*cos(x)**6"
      ]
     },
     "execution_count": 66,
     "metadata": {},
     "output_type": "execute_result"
    }
   ],
   "source": [
    "a6"
   ]
  },
  {
   "cell_type": "code",
   "execution_count": 67,
   "id": "95373be3",
   "metadata": {},
   "outputs": [
    {
     "data": {
      "text/latex": [
       "$\\displaystyle - 427905 \\sin^{8}{\\left(x \\right)} \\cos{\\left(x \\right)} + 2374344 \\sin^{6}{\\left(x \\right)} \\cos^{3}{\\left(x \\right)} - 1799280 \\sin^{4}{\\left(x \\right)} \\cos^{5}{\\left(x \\right)} + 181440 \\sin^{2}{\\left(x \\right)} \\cos^{7}{\\left(x \\right)}$"
      ],
      "text/plain": [
       "-427905*sin(x)**8*cos(x) + 2374344*sin(x)**6*cos(x)**3 - 1799280*sin(x)**4*cos(x)**5 + 181440*sin(x)**2*cos(x)**7"
      ]
     },
     "execution_count": 67,
     "metadata": {},
     "output_type": "execute_result"
    }
   ],
   "source": [
    "a7\n"
   ]
  },
  {
   "cell_type": "code",
   "execution_count": 68,
   "id": "0860d64b",
   "metadata": {},
   "outputs": [
    {
     "data": {
      "text/latex": [
       "$\\displaystyle 427905 \\sin^{9}{\\left(x \\right)} - 10546272 \\sin^{7}{\\left(x \\right)} \\cos^{2}{\\left(x \\right)} + 23242464 \\sin^{5}{\\left(x \\right)} \\cos^{4}{\\left(x \\right)} - 8467200 \\sin^{3}{\\left(x \\right)} \\cos^{6}{\\left(x \\right)} + 362880 \\sin{\\left(x \\right)} \\cos^{8}{\\left(x \\right)}$"
      ],
      "text/plain": [
       "427905*sin(x)**9 - 10546272*sin(x)**7*cos(x)**2 + 23242464*sin(x)**5*cos(x)**4 - 8467200*sin(x)**3*cos(x)**6 + 362880*sin(x)*cos(x)**8"
      ]
     },
     "execution_count": 68,
     "metadata": {},
     "output_type": "execute_result"
    }
   ],
   "source": [
    "a8"
   ]
  },
  {
   "cell_type": "code",
   "execution_count": 69,
   "id": "675c0623",
   "metadata": {},
   "outputs": [
    {
     "data": {
      "text/latex": [
       "$\\displaystyle 24943689 \\sin^{8}{\\left(x \\right)} \\cos{\\left(x \\right)} - 166793760 \\sin^{6}{\\left(x \\right)} \\cos^{3}{\\left(x \\right)} + 167015520 \\sin^{4}{\\left(x \\right)} \\cos^{5}{\\left(x \\right)} - 28304640 \\sin^{2}{\\left(x \\right)} \\cos^{7}{\\left(x \\right)} + 362880 \\cos^{9}{\\left(x \\right)}$"
      ],
      "text/plain": [
       "24943689*sin(x)**8*cos(x) - 166793760*sin(x)**6*cos(x)**3 + 167015520*sin(x)**4*cos(x)**5 - 28304640*sin(x)**2*cos(x)**7 + 362880*cos(x)**9"
      ]
     },
     "execution_count": 69,
     "metadata": {},
     "output_type": "execute_result"
    }
   ],
   "source": [
    "a9"
   ]
  },
  {
   "cell_type": "code",
   "execution_count": 70,
   "id": "7b0a9b2c",
   "metadata": {},
   "outputs": [
    {
     "data": {
      "text/latex": [
       "$\\displaystyle \\frac{5 x^{6}}{6} - \\frac{\\cos^{9}{\\left(x \\right)}}{9} + \\frac{4 \\cos^{7}{\\left(x \\right)}}{7} - \\frac{6 \\cos^{5}{\\left(x \\right)}}{5} + \\frac{4 \\cos^{3}{\\left(x \\right)}}{3} - \\cos{\\left(x \\right)}$"
      ],
      "text/plain": [
       "5*x**6/6 - cos(x)**9/9 + 4*cos(x)**7/7 - 6*cos(x)**5/5 + 4*cos(x)**3/3 - cos(x)"
      ]
     },
     "execution_count": 70,
     "metadata": {},
     "output_type": "execute_result"
    }
   ],
   "source": [
    "a = sin(x)**9+5*x**5\n",
    "a1 =integrate(a)\n",
    "a1"
   ]
  },
  {
   "cell_type": "code",
   "execution_count": 71,
   "id": "fae4a3a5",
   "metadata": {},
   "outputs": [
    {
     "data": {
      "text/latex": [
       "$\\displaystyle \\frac{5 x^{7}}{42} - \\frac{\\sin^{9}{\\left(x \\right)}}{81} - \\frac{8 \\sin^{7}{\\left(x \\right)}}{441} - \\frac{16 \\sin^{5}{\\left(x \\right)}}{525} - \\frac{64 \\sin^{3}{\\left(x \\right)}}{945} - \\frac{128 \\sin{\\left(x \\right)}}{315}$"
      ],
      "text/plain": [
       "5*x**7/42 - sin(x)**9/81 - 8*sin(x)**7/441 - 16*sin(x)**5/525 - 64*sin(x)**3/945 - 128*sin(x)/315"
      ]
     },
     "execution_count": 71,
     "metadata": {},
     "output_type": "execute_result"
    }
   ],
   "source": [
    "a2 =integrate(a1)\n",
    "a2\n"
   ]
  },
  {
   "cell_type": "code",
   "execution_count": 72,
   "id": "5713ae69",
   "metadata": {},
   "outputs": [
    {
     "data": {
      "text/latex": [
       "$\\displaystyle \\frac{5 x^{8}}{336} + \\frac{\\cos^{9}{\\left(x \\right)}}{729} - \\frac{268 \\cos^{7}{\\left(x \\right)}}{27783} + \\frac{5258 \\cos^{5}{\\left(x \\right)}}{165375} - \\frac{23068 \\cos^{3}{\\left(x \\right)}}{297675} + \\frac{53089 \\cos{\\left(x \\right)}}{99225}$"
      ],
      "text/plain": [
       "5*x**8/336 + cos(x)**9/729 - 268*cos(x)**7/27783 + 5258*cos(x)**5/165375 - 23068*cos(x)**3/297675 + 53089*cos(x)/99225"
      ]
     },
     "execution_count": 72,
     "metadata": {},
     "output_type": "execute_result"
    }
   ],
   "source": [
    "a3 =integrate(a2)\n",
    "a3"
   ]
  },
  {
   "cell_type": "code",
   "execution_count": 73,
   "id": "c714cf29",
   "metadata": {},
   "outputs": [
    {
     "data": {
      "text/latex": [
       "$\\displaystyle \\frac{5 x^{9}}{3024} + \\frac{\\sin^{9}{\\left(x \\right)}}{6561} + \\frac{1040 \\sin^{7}{\\left(x \\right)}}{1750329} + \\frac{115504 \\sin^{5}{\\left(x \\right)}}{52093125} + \\frac{1167616 \\sin^{3}{\\left(x \\right)}}{93767625} + \\frac{15036032 \\sin{\\left(x \\right)}}{31255875}$"
      ],
      "text/plain": [
       "5*x**9/3024 + sin(x)**9/6561 + 1040*sin(x)**7/1750329 + 115504*sin(x)**5/52093125 + 1167616*sin(x)**3/93767625 + 15036032*sin(x)/31255875"
      ]
     },
     "execution_count": 73,
     "metadata": {},
     "output_type": "execute_result"
    }
   ],
   "source": [
    "a4 =integrate(a3)\n",
    "a4"
   ]
  },
  {
   "cell_type": "code",
   "execution_count": 74,
   "id": "c23586c0",
   "metadata": {},
   "outputs": [
    {
     "data": {
      "text/latex": [
       "$\\displaystyle \\frac{x^{10}}{6048} - \\frac{\\cos^{9}{\\left(x \\right)}}{59049} + \\frac{18964 \\cos^{7}{\\left(x \\right)}}{110270727} - \\frac{16128002 \\cos^{5}{\\left(x \\right)}}{16409334375} + \\frac{189812692 \\cos^{3}{\\left(x \\right)}}{29536801875} - \\frac{4888130641 \\cos{\\left(x \\right)}}{9845600625}$"
      ],
      "text/plain": [
       "x**10/6048 - cos(x)**9/59049 + 18964*cos(x)**7/110270727 - 16128002*cos(x)**5/16409334375 + 189812692*cos(x)**3/29536801875 - 4888130641*cos(x)/9845600625"
      ]
     },
     "execution_count": 74,
     "metadata": {},
     "output_type": "execute_result"
    }
   ],
   "source": [
    "a5 =integrate(a4)\n",
    "a5"
   ]
  },
  {
   "cell_type": "code",
   "execution_count": 75,
   "id": "175947ce",
   "metadata": {},
   "outputs": [
    {
     "data": {
      "text/latex": [
       "$\\displaystyle \\frac{x^{11}}{66528} - \\frac{\\sin^{9}{\\left(x \\right)}}{531441} - \\frac{103448 \\sin^{7}{\\left(x \\right)}}{6947055801} - \\frac{587745376 \\sin^{5}{\\left(x \\right)}}{5168940328125} - \\frac{15223947904 \\sin^{3}{\\left(x \\right)}}{9304092590625} - \\frac{1522398171008 \\sin{\\left(x \\right)}}{3101364196875}$"
      ],
      "text/plain": [
       "x**11/66528 - sin(x)**9/531441 - 103448*sin(x)**7/6947055801 - 587745376*sin(x)**5/5168940328125 - 15223947904*sin(x)**3/9304092590625 - 1522398171008*sin(x)/3101364196875"
      ]
     },
     "execution_count": 75,
     "metadata": {},
     "output_type": "execute_result"
    }
   ],
   "source": [
    "a6 =integrate(a5)\n",
    "a6"
   ]
  },
  {
   "cell_type": "code",
   "execution_count": 84,
   "id": "cb32db93",
   "metadata": {},
   "outputs": [
    {
     "data": {
      "text/latex": [
       "$\\displaystyle \\left[\\begin{matrix}2 & 3\\\\2 & 5\\end{matrix}\\right]$"
      ],
      "text/plain": [
       "Matrix([\n",
       "[2, 3],\n",
       "[2, 5]])"
      ]
     },
     "execution_count": 84,
     "metadata": {},
     "output_type": "execute_result"
    }
   ],
   "source": [
    "a = Matrix([[1,1],[1,0]])\n",
    "b = Matrix([[1,2],[1,5]])\n",
    "\n",
    "\n"
   ]
  },
  {
   "cell_type": "code",
   "execution_count": 85,
   "id": "3f4cce13",
   "metadata": {},
   "outputs": [
    {
     "data": {
      "text/latex": [
       "$\\displaystyle \\left[\\begin{matrix}1 & 1\\\\1 & 0\\end{matrix}\\right]$"
      ],
      "text/plain": [
       "Matrix([\n",
       "[1, 1],\n",
       "[1, 0]])"
      ]
     },
     "execution_count": 85,
     "metadata": {},
     "output_type": "execute_result"
    }
   ],
   "source": [
    "a"
   ]
  },
  {
   "cell_type": "code",
   "execution_count": 86,
   "id": "0feb6ee5",
   "metadata": {},
   "outputs": [
    {
     "data": {
      "text/latex": [
       "$\\displaystyle \\left[\\begin{matrix}1 & 2\\\\1 & 5\\end{matrix}\\right]$"
      ],
      "text/plain": [
       "Matrix([\n",
       "[1, 2],\n",
       "[1, 5]])"
      ]
     },
     "execution_count": 86,
     "metadata": {},
     "output_type": "execute_result"
    }
   ],
   "source": [
    "b"
   ]
  },
  {
   "cell_type": "code",
   "execution_count": 87,
   "id": "e9b0c67f",
   "metadata": {},
   "outputs": [
    {
     "data": {
      "text/latex": [
       "$\\displaystyle \\left[\\begin{matrix}2 & 3\\\\2 & 5\\end{matrix}\\right]$"
      ],
      "text/plain": [
       "Matrix([\n",
       "[2, 3],\n",
       "[2, 5]])"
      ]
     },
     "execution_count": 87,
     "metadata": {},
     "output_type": "execute_result"
    }
   ],
   "source": [
    "a+b"
   ]
  },
  {
   "cell_type": "code",
   "execution_count": 88,
   "id": "4dbdad46",
   "metadata": {},
   "outputs": [
    {
     "data": {
      "text/latex": [
       "$\\displaystyle \\left[\\begin{matrix}0 & -1\\\\0 & -5\\end{matrix}\\right]$"
      ],
      "text/plain": [
       "Matrix([\n",
       "[0, -1],\n",
       "[0, -5]])"
      ]
     },
     "execution_count": 88,
     "metadata": {},
     "output_type": "execute_result"
    }
   ],
   "source": [
    "a-b"
   ]
  },
  {
   "cell_type": "code",
   "execution_count": 90,
   "id": "9cb0e4bc",
   "metadata": {},
   "outputs": [
    {
     "data": {
      "text/latex": [
       "$\\displaystyle \\left[\\begin{matrix}2 & 7\\\\1 & 2\\end{matrix}\\right]$"
      ],
      "text/plain": [
       "Matrix([\n",
       "[2, 7],\n",
       "[1, 2]])"
      ]
     },
     "execution_count": 90,
     "metadata": {},
     "output_type": "execute_result"
    }
   ],
   "source": [
    "a*b"
   ]
  },
  {
   "cell_type": "code",
   "execution_count": 102,
   "id": "a20336fc",
   "metadata": {},
   "outputs": [
    {
     "data": {
      "text/latex": [
       "$\\displaystyle 3$"
      ],
      "text/plain": [
       "3"
      ]
     },
     "execution_count": 102,
     "metadata": {},
     "output_type": "execute_result"
    }
   ],
   "source": [
    "det(a)\n",
    "det(b)"
   ]
  },
  {
   "cell_type": "code",
   "execution_count": 103,
   "id": "5ba2024a",
   "metadata": {},
   "outputs": [
    {
     "data": {
      "text/plain": [
       "(Matrix([\n",
       " [sqrt(2)/2,  sqrt(2)/2],\n",
       " [sqrt(2)/2, -sqrt(2)/2]]),\n",
       " Matrix([\n",
       " [sqrt(2), sqrt(2)/2],\n",
       " [      0, sqrt(2)/2]]))"
      ]
     },
     "execution_count": 103,
     "metadata": {},
     "output_type": "execute_result"
    }
   ],
   "source": [
    "a.QRdecomposition()"
   ]
  },
  {
   "cell_type": "code",
   "execution_count": 99,
   "id": "d6375f86",
   "metadata": {},
   "outputs": [
    {
     "data": {
      "text/latex": [
       "$\\displaystyle \\left[\\begin{matrix}0 & 0 & 0 & 0 & 0 & 0 & 0 & 0 & 0\\\\0 & 0 & 0 & 0 & 0 & 0 & 0 & 0 & 0\\\\0 & 0 & 0 & 0 & 0 & 0 & 0 & 0 & 0\\\\0 & 0 & 0 & 0 & 0 & 0 & 0 & 0 & 0\\\\0 & 0 & 0 & 0 & 0 & 0 & 0 & 0 & 0\\\\0 & 0 & 0 & 0 & 0 & 0 & 0 & 0 & 0\\\\0 & 0 & 0 & 0 & 0 & 0 & 0 & 0 & 0\\\\0 & 0 & 0 & 0 & 0 & 0 & 0 & 0 & 0\\\\0 & 0 & 0 & 0 & 0 & 0 & 0 & 0 & 0\\end{matrix}\\right]$"
      ],
      "text/plain": [
       "Matrix([\n",
       "[0, 0, 0, 0, 0, 0, 0, 0, 0],\n",
       "[0, 0, 0, 0, 0, 0, 0, 0, 0],\n",
       "[0, 0, 0, 0, 0, 0, 0, 0, 0],\n",
       "[0, 0, 0, 0, 0, 0, 0, 0, 0],\n",
       "[0, 0, 0, 0, 0, 0, 0, 0, 0],\n",
       "[0, 0, 0, 0, 0, 0, 0, 0, 0],\n",
       "[0, 0, 0, 0, 0, 0, 0, 0, 0],\n",
       "[0, 0, 0, 0, 0, 0, 0, 0, 0],\n",
       "[0, 0, 0, 0, 0, 0, 0, 0, 0]])"
      ]
     },
     "execution_count": 99,
     "metadata": {},
     "output_type": "execute_result"
    }
   ],
   "source": [
    "zeros(9)"
   ]
  },
  {
   "cell_type": "code",
   "execution_count": 120,
   "id": "97c2c448",
   "metadata": {},
   "outputs": [
    {
     "data": {
      "text/latex": [
       "$\\displaystyle 2$"
      ],
      "text/plain": [
       "2"
      ]
     },
     "execution_count": 120,
     "metadata": {},
     "output_type": "execute_result"
    }
   ],
   "source": [
    "poly = x**2-7*x+10\n",
    "a = solve(poly,x)[0]\n",
    "a"
   ]
  },
  {
   "cell_type": "code",
   "execution_count": 118,
   "id": "7f718ab9",
   "metadata": {},
   "outputs": [
    {
     "data": {
      "text/latex": [
       "$\\displaystyle 5$"
      ],
      "text/plain": [
       "5"
      ]
     },
     "execution_count": 118,
     "metadata": {},
     "output_type": "execute_result"
    }
   ],
   "source": [
    "poly = x**2-7*x+10\n",
    "a = solve(poly,x)[1]\n",
    "a"
   ]
  },
  {
   "cell_type": "code",
   "execution_count": 122,
   "id": "921ef9c8",
   "metadata": {},
   "outputs": [
    {
     "data": {
      "text/latex": [
       "$\\displaystyle - 2 \\frac{d}{d x} f{\\left(x \\right)} + \\frac{d^{2}}{d x^{2}} f{\\left(x \\right)} + 1$"
      ],
      "text/plain": [
       "-2*Derivative(f(x), x) + Derivative(f(x), (x, 2)) + 1"
      ]
     },
     "execution_count": 122,
     "metadata": {},
     "output_type": "execute_result"
    }
   ],
   "source": [
    "f,g = symbols('f g',cls=Function)\n",
    "\n",
    "expr = f(x).diff(x,x)-2*f(x).diff(x) + 1\n",
    "expr"
   ]
  },
  {
   "cell_type": "code",
   "execution_count": 125,
   "id": "696d8567",
   "metadata": {},
   "outputs": [
    {
     "data": {
      "text/latex": [
       "$\\displaystyle f{\\left(x \\right)} = C_{1} + C_{2} e^{2 x} + \\frac{x}{2}$"
      ],
      "text/plain": [
       "Eq(f(x), C1 + C2*exp(2*x) + x/2)"
      ]
     },
     "execution_count": 125,
     "metadata": {},
     "output_type": "execute_result"
    }
   ],
   "source": [
    "eqn = dsolve(expr,f(x))\n",
    "eqn"
   ]
  },
  {
   "cell_type": "code",
   "execution_count": 136,
   "id": "7bf6c62d",
   "metadata": {},
   "outputs": [
    {
     "data": {
      "text/plain": [
       "'sin(C1) + sin(C1 + pi/3)'"
      ]
     },
     "execution_count": 136,
     "metadata": {},
     "output_type": "execute_result"
    }
   ],
   "source": [
    "\n",
    "expr = sin(x+pi/3)+sin(x)\n",
    "simplify(expr)\n",
    "\n",
    "str(expr)"
   ]
  },
  {
   "cell_type": "code",
   "execution_count": 144,
   "id": "aa8fa0a8",
   "metadata": {},
   "outputs": [
    {
     "data": {
      "text/latex": [
       "$\\displaystyle \\sin{\\left(\\theta \\right)} + \\cos^{2}{\\left(\\theta \\right)} + 1$"
      ],
      "text/plain": [
       "sin(theta) + cos(theta)**2 + 1"
      ]
     },
     "execution_count": 144,
     "metadata": {},
     "output_type": "execute_result"
    }
   ],
   "source": [
    "expr = sin(theta)+cos(theta)**2+1\n",
    "\n",
    "expr"
   ]
  },
  {
   "cell_type": "code",
   "execution_count": 143,
   "id": "acc16b0d",
   "metadata": {},
   "outputs": [
    {
     "data": {
      "text/plain": [
       "[-pi/2, 2*atan(1/2 - sqrt(3)*I/2), 2*atan(1/2 + sqrt(3)*I/2)]"
      ]
     },
     "execution_count": 143,
     "metadata": {},
     "output_type": "execute_result"
    }
   ],
   "source": [
    "solutions = solve(expr)\n",
    "solutions"
   ]
  },
  {
   "cell_type": "code",
   "execution_count": 145,
   "id": "7c6b57b0",
   "metadata": {},
   "outputs": [
    {
     "data": {
      "text/latex": [
       "$\\displaystyle 0$"
      ],
      "text/plain": [
       "0"
      ]
     },
     "execution_count": 145,
     "metadata": {},
     "output_type": "execute_result"
    }
   ],
   "source": [
    "expr.subs(theta, solutions[0])"
   ]
  },
  {
   "cell_type": "code",
   "execution_count": 149,
   "id": "a0e56e53",
   "metadata": {},
   "outputs": [
    {
     "data": {
      "image/png": "[encoded data removed]",
      "text/plain": [
       "<Figure size 432x288 with 1 Axes>"
      ]
     },
     "metadata": {
      "needs_background": "light"
     },
     "output_type": "display_data"
    }
   ],
   "source": [
    "from sympy import symbols\n",
    "from sympy.plotting import plot\n",
    "x = symbols('x')\n",
    "p1 = plot(x*x, show=False)\n",
    "p2 = plot(x, show=False)\n",
    "p1.append(p2[0])\n",
    "p1\n",
    "\n",
    "\n",
    "p1.show()"
   ]
  },
  {
   "cell_type": "code",
   "execution_count": 154,
   "id": "0b4bcd43",
   "metadata": {},
   "outputs": [
    {
     "data": {
      "image/png": "[encoded data removed]",
      "text/plain": [
       "<Figure size 432x288 with 1 Axes>"
      ]
     },
     "metadata": {
      "needs_background": "light"
     },
     "output_type": "display_data"
    },
    {
     "data": {
      "text/plain": [
       "<sympy.plotting.plot.Plot at 0x237c57e8b20>"
      ]
     },
     "execution_count": 154,
     "metadata": {},
     "output_type": "execute_result"
    }
   ],
   "source": [
    "from sympy import symbols, cos, sin\n",
    "from sympy.plotting import plot_parametric\n",
    "u = symbols('u')\n",
    "plot_parametric((cos(u), sin(u)), (u, -50, 50))\n",
    "#Plot object containing parametric cartesian line: \n",
    "#(cos(u), sin(u)) for u over (-5.0, 5.0)"
   ]
  },
  {
   "cell_type": "code",
   "execution_count": 158,
   "id": "9407b696",
   "metadata": {},
   "outputs": [
    {
     "data": {
      "image/png": "[encoded data removed]",
      "text/plain": [
       "<Figure size 432x288 with 1 Axes>"
      ]
     },
     "metadata": {
      "needs_background": "light"
     },
     "output_type": "display_data"
    },
    {
     "data": {
      "text/plain": [
       "<sympy.plotting.plot.Plot at 0x237c689d640>"
      ]
     },
     "execution_count": 158,
     "metadata": {},
     "output_type": "execute_result"
    }
   ],
   "source": [
    "plot_parametric((cos(u), sin(u)), (u, cos(u)), (u, -10, 10))\n"
   ]
  },
  {
   "cell_type": "code",
   "execution_count": 162,
   "id": "6d1a3784",
   "metadata": {},
   "outputs": [
    {
     "data": {
      "image/png": "[encoded data removed]",
      "text/plain": [
       "<Figure size 432x288 with 1 Axes>"
      ]
     },
     "metadata": {
      "needs_background": "light"
     },
     "output_type": "display_data"
    },
    {
     "data": {
      "text/plain": [
       "<sympy.plotting.plot.Plot at 0x237c69a7220>"
      ]
     },
     "execution_count": 162,
     "metadata": {},
     "output_type": "execute_result"
    }
   ],
   "source": [
    "from sympy import symbols\n",
    "from sympy.plotting import plot3d\n",
    "x, y = symbols('x y')\n",
    "plot3d(x*y, (x, -5, 5), (y, -5, 5))"
   ]
  },
  {
   "cell_type": "code",
   "execution_count": null,
   "id": "518170a7",
   "metadata": {},
   "outputs": [],
   "source": []
  },
  {
   "cell_type": "code",
   "execution_count": null,
   "id": "74eddf33",
   "metadata": {},
   "outputs": [],
   "source": []
  }
 ],
 "metadata": {
  "kernelspec": {
   "display_name": "Python 3",
   "language": "python",
   "name": "python3"
  },
  "language_info": {
   "codemirror_mode": {
    "name": "ipython",
    "version": 3
   },
   "file_extension": ".py",
   "mimetype": "text/x-python",
   "name": "python",
   "nbconvert_exporter": "python",
   "pygments_lexer": "ipython3",
   "version": "3.8.10"
  }
 },
 "nbformat": 4,
 "nbformat_minor": 5
}
