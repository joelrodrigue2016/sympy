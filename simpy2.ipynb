{
 "cells": [
  {
   "cell_type": "code",
   "execution_count": 1,
   "id": "5e43b739",
   "metadata": {},
   "outputs": [
    {
     "name": "stdout",
     "output_type": "stream",
     "text": [
      "Modules loaded successfully!\n"
     ]
    }
   ],
   "source": [
    "try:\n",
    "    import numpy as np\n",
    "    from matplotlib import pyplot as plt\n",
    "    from sympy import *\n",
    "    print(\"Modules loaded successfully!\")\n",
    "    from sympy.abc import *\n",
    "except ModuleNotFoundError:\n",
    "    print(\"There was a problem with your module(s)\")"
   ]
  },
  {
   "cell_type": "code",
   "execution_count": 2,
   "id": "58dacb9d",
   "metadata": {},
   "outputs": [
    {
     "data": {
      "text/plain": [
       "4.242640687119285"
      ]
     },
     "execution_count": 2,
     "metadata": {},
     "output_type": "execute_result"
    }
   ],
   "source": [
    "18**(1/2)"
   ]
  },
  {
   "cell_type": "code",
   "execution_count": 3,
   "id": "3c6f5a00",
   "metadata": {},
   "outputs": [
    {
     "data": {
      "text/latex": [
       "$\\displaystyle 3 y + 125$"
      ],
      "text/plain": [
       "3*y + 125"
      ]
     },
     "execution_count": 3,
     "metadata": {},
     "output_type": "execute_result"
    }
   ],
   "source": [
    "from sympy import simplify, cos, sin\n",
    "from sympy.abc import x, y,a,z\n",
    "\n",
    "x = 5\n",
    "a = (3*y + 5*x**2)\n",
    "a\n"
   ]
  },
  {
   "cell_type": "code",
   "execution_count": 5,
   "id": "a51720a2",
   "metadata": {},
   "outputs": [
    {
     "data": {
      "text/latex": [
       "$\\displaystyle 3 \\sqrt{2}$"
      ],
      "text/plain": [
       "3*sqrt(2)"
      ]
     },
     "execution_count": 5,
     "metadata": {},
     "output_type": "execute_result"
    }
   ],
   "source": [
    "sqrt(18)"
   ]
  },
  {
   "cell_type": "code",
   "execution_count": 6,
   "id": "43812e3c",
   "metadata": {},
   "outputs": [
    {
     "data": {
      "text/latex": [
       "$\\displaystyle \\frac{5}{3}$"
      ],
      "text/plain": [
       "5/3"
      ]
     },
     "execution_count": 6,
     "metadata": {},
     "output_type": "execute_result"
    }
   ],
   "source": [
    "frac = Rational(25,15)\n",
    "frac"
   ]
  },
  {
   "cell_type": "code",
   "execution_count": 7,
   "id": "4a3072d7",
   "metadata": {},
   "outputs": [
    {
     "data": {
      "text/latex": [
       "$\\displaystyle 3 x + y$"
      ],
      "text/plain": [
       "3*x + y"
      ]
     },
     "execution_count": 7,
     "metadata": {},
     "output_type": "execute_result"
    }
   ],
   "source": [
    "x,y = symbols(\"x,y\")\n",
    "expr = 3*x+y\n",
    "expr"
   ]
  },
  {
   "cell_type": "code",
   "execution_count": 8,
   "id": "16b80a48",
   "metadata": {},
   "outputs": [
    {
     "data": {
      "text/latex": [
       "$\\displaystyle 2 x^{9} + 3 x + y$"
      ],
      "text/plain": [
       "2*x**9 + 3*x + y"
      ]
     },
     "execution_count": 8,
     "metadata": {},
     "output_type": "execute_result"
    }
   ],
   "source": [
    "x,y = symbols(\"x,y\")\n",
    "expr = 3*x+y\n",
    "expr+2*x**9"
   ]
  },
  {
   "cell_type": "code",
   "execution_count": 9,
   "id": "0f6bbf64",
   "metadata": {},
   "outputs": [
    {
     "data": {
      "text/latex": [
       "$\\displaystyle 2 x + 1$"
      ],
      "text/plain": [
       "2*x + 1"
      ]
     },
     "execution_count": 9,
     "metadata": {},
     "output_type": "execute_result"
    }
   ],
   "source": [
    "expr = (6*x**2+3*x)/(3*x)\n",
    "expr\n",
    "\n",
    "simplify(expr)"
   ]
  },
  {
   "cell_type": "code",
   "execution_count": 10,
   "id": "c9bdd503",
   "metadata": {},
   "outputs": [
    {
     "data": {
      "text/plain": [
       "[-1/2, 0]"
      ]
     },
     "execution_count": 10,
     "metadata": {},
     "output_type": "execute_result"
    }
   ],
   "source": [
    "expr = (6*x**2+3*x)*3*x\n",
    "\n",
    "solve(expr)\n"
   ]
  },
  {
   "cell_type": "code",
   "execution_count": 11,
   "id": "f25d6bbd",
   "metadata": {},
   "outputs": [
    {
     "data": {
      "text/latex": [
       "$\\displaystyle 2 x + \\sin^{2}{\\left(x \\right)}$"
      ],
      "text/plain": [
       "2*x + sin(x)**2"
      ]
     },
     "execution_count": 11,
     "metadata": {},
     "output_type": "execute_result"
    }
   ],
   "source": [
    "expr = sin(x)**2+2*x\n",
    "expr"
   ]
  },
  {
   "cell_type": "code",
   "execution_count": 28,
   "id": "a6cbc669",
   "metadata": {},
   "outputs": [
    {
     "data": {
      "text/latex": [
       "$\\displaystyle x^{2} + \\frac{x}{2} - \\frac{\\sin{\\left(x \\right)} \\cos{\\left(x \\right)}}{2}$"
      ],
      "text/plain": [
       "x**2 + x/2 - sin(x)*cos(x)/2"
      ]
     },
     "execution_count": 28,
     "metadata": {},
     "output_type": "execute_result"
    }
   ],
   "source": [
    "integrate(expr)"
   ]
  },
  {
   "cell_type": "code",
   "execution_count": 19,
   "id": "4a326b12",
   "metadata": {},
   "outputs": [
    {
     "data": {
      "text/latex": [
       "$\\displaystyle \\frac{2 \\sin^{2}{\\left(x \\right)}}{\\sin{\\left(2 x \\right)}}$"
      ],
      "text/plain": [
       "2*sin(x)**2/sin(2*x)"
      ]
     },
     "execution_count": 19,
     "metadata": {},
     "output_type": "execute_result"
    }
   ],
   "source": [
    "tan(x).rewrite(sin)"
   ]
  },
  {
   "cell_type": "code",
   "execution_count": 25,
   "id": "7f7a7b2b",
   "metadata": {},
   "outputs": [
    {
     "data": {
      "text/latex": [
       "$\\displaystyle \\cos{\\left(x - \\frac{\\pi}{2} \\right)}$"
      ],
      "text/plain": [
       "cos(x - pi/2)"
      ]
     },
     "execution_count": 25,
     "metadata": {},
     "output_type": "execute_result"
    }
   ],
   "source": [
    "sin(x).rewrite(cos)"
   ]
  },
  {
   "cell_type": "code",
   "execution_count": 30,
   "id": "cfa7ce54",
   "metadata": {},
   "outputs": [
    {
     "name": "stdout",
     "output_type": "stream",
     "text": [
      "x^{2} + \\frac{x}{2} - \\frac{\\sin{\\left(x \\right)} \\cos{\\left(x \\right)}}{2}\n"
     ]
    }
   ],
   "source": [
    "print(latex(integrate(expr)))"
   ]
  },
  {
   "cell_type": "code",
   "execution_count": 60,
   "id": "d89a23ef",
   "metadata": {},
   "outputs": [],
   "source": [
    "a = sin(x)**9+5*x**5\n",
    "a1 =diff(a)\n",
    "a2 =diff(a1)\n",
    "a3 =diff(a2)\n",
    "a4 =diff(a3)\n",
    "a5 =diff(a4)\n",
    "a6 =diff(a5)\n",
    "a7 =diff(a6)\n",
    "a8 =diff(a7)\n",
    "a9 =diff(a8)\n"
   ]
  },
  {
   "cell_type": "code",
   "execution_count": 61,
   "id": "9a3c89a6",
   "metadata": {},
   "outputs": [
    {
     "data": {
      "text/latex": [
       "$\\displaystyle 25 x^{4} + 9 \\sin^{8}{\\left(x \\right)} \\cos{\\left(x \\right)}$"
      ],
      "text/plain": [
       "25*x**4 + 9*sin(x)**8*cos(x)"
      ]
     },
     "execution_count": 61,
     "metadata": {},
     "output_type": "execute_result"
    }
   ],
   "source": [
    "a1"
   ]
  },
  {
   "cell_type": "code",
   "execution_count": 62,
   "id": "9bd94b0f",
   "metadata": {},
   "outputs": [
    {
     "data": {
      "text/latex": [
       "$\\displaystyle 100 x^{3} - 9 \\sin^{9}{\\left(x \\right)} + 72 \\sin^{7}{\\left(x \\right)} \\cos^{2}{\\left(x \\right)}$"
      ],
      "text/plain": [
       "100*x**3 - 9*sin(x)**9 + 72*sin(x)**7*cos(x)**2"
      ]
     },
     "execution_count": 62,
     "metadata": {},
     "output_type": "execute_result"
    }
   ],
   "source": [
    "a2"
   ]
  },
  {
   "cell_type": "code",
   "execution_count": 63,
   "id": "0f40c3ce",
   "metadata": {},
   "outputs": [
    {
     "data": {
      "text/latex": [
       "$\\displaystyle 300 x^{2} - 225 \\sin^{8}{\\left(x \\right)} \\cos{\\left(x \\right)} + 504 \\sin^{6}{\\left(x \\right)} \\cos^{3}{\\left(x \\right)}$"
      ],
      "text/plain": [
       "300*x**2 - 225*sin(x)**8*cos(x) + 504*sin(x)**6*cos(x)**3"
      ]
     },
     "execution_count": 63,
     "metadata": {},
     "output_type": "execute_result"
    }
   ],
   "source": [
    "a3"
   ]
  },
  {
   "cell_type": "code",
   "execution_count": 64,
   "id": "27c9754b",
   "metadata": {},
   "outputs": [
    {
     "data": {
      "text/latex": [
       "$\\displaystyle 600 x + 225 \\sin^{9}{\\left(x \\right)} - 3312 \\sin^{7}{\\left(x \\right)} \\cos^{2}{\\left(x \\right)} + 3024 \\sin^{5}{\\left(x \\right)} \\cos^{4}{\\left(x \\right)}$"
      ],
      "text/plain": [
       "600*x + 225*sin(x)**9 - 3312*sin(x)**7*cos(x)**2 + 3024*sin(x)**5*cos(x)**4"
      ]
     },
     "execution_count": 64,
     "metadata": {},
     "output_type": "execute_result"
    }
   ],
   "source": [
    "a4"
   ]
  },
  {
   "cell_type": "code",
   "execution_count": 65,
   "id": "54ce6f67",
   "metadata": {},
   "outputs": [
    {
     "data": {
      "text/latex": [
       "$\\displaystyle 8649 \\sin^{8}{\\left(x \\right)} \\cos{\\left(x \\right)} - 35280 \\sin^{6}{\\left(x \\right)} \\cos^{3}{\\left(x \\right)} + 15120 \\sin^{4}{\\left(x \\right)} \\cos^{5}{\\left(x \\right)} + 600$"
      ],
      "text/plain": [
       "8649*sin(x)**8*cos(x) - 35280*sin(x)**6*cos(x)**3 + 15120*sin(x)**4*cos(x)**5 + 600"
      ]
     },
     "execution_count": 65,
     "metadata": {},
     "output_type": "execute_result"
    }
   ],
   "source": [
    "a5"
   ]
  },
  {
   "cell_type": "code",
   "execution_count": 66,
   "id": "c132a20f",
   "metadata": {},
   "outputs": [
    {
     "data": {
      "text/latex": [
       "$\\displaystyle - 8649 \\sin^{9}{\\left(x \\right)} + 175032 \\sin^{7}{\\left(x \\right)} \\cos^{2}{\\left(x \\right)} - 287280 \\sin^{5}{\\left(x \\right)} \\cos^{4}{\\left(x \\right)} + 60480 \\sin^{3}{\\left(x \\right)} \\cos^{6}{\\left(x \\right)}$"
      ],
      "text/plain": [
       "-8649*sin(x)**9 + 175032*sin(x)**7*cos(x)**2 - 287280*sin(x)**5*cos(x)**4 + 60480*sin(x)**3*cos(x)**6"
      ]
     },
     "execution_count": 66,
     "metadata": {},
     "output_type": "execute_result"
    }
   ],
   "source": [
    "a6"
   ]
  },
  {
   "cell_type": "code",
   "execution_count": 67,
   "id": "9ccc8b71",
   "metadata": {},
   "outputs": [
    {
     "data": {
      "text/latex": [
       "$\\displaystyle - 427905 \\sin^{8}{\\left(x \\right)} \\cos{\\left(x \\right)} + 2374344 \\sin^{6}{\\left(x \\right)} \\cos^{3}{\\left(x \\right)} - 1799280 \\sin^{4}{\\left(x \\right)} \\cos^{5}{\\left(x \\right)} + 181440 \\sin^{2}{\\left(x \\right)} \\cos^{7}{\\left(x \\right)}$"
      ],
      "text/plain": [
       "-427905*sin(x)**8*cos(x) + 2374344*sin(x)**6*cos(x)**3 - 1799280*sin(x)**4*cos(x)**5 + 181440*sin(x)**2*cos(x)**7"
      ]
     },
     "execution_count": 67,
     "metadata": {},
     "output_type": "execute_result"
    }
   ],
   "source": [
    "a7\n"
   ]
  },
  {
   "cell_type": "code",
   "execution_count": 68,
   "id": "98719e94",
   "metadata": {},
   "outputs": [
    {
     "data": {
      "text/latex": [
       "$\\displaystyle 427905 \\sin^{9}{\\left(x \\right)} - 10546272 \\sin^{7}{\\left(x \\right)} \\cos^{2}{\\left(x \\right)} + 23242464 \\sin^{5}{\\left(x \\right)} \\cos^{4}{\\left(x \\right)} - 8467200 \\sin^{3}{\\left(x \\right)} \\cos^{6}{\\left(x \\right)} + 362880 \\sin{\\left(x \\right)} \\cos^{8}{\\left(x \\right)}$"
      ],
      "text/plain": [
       "427905*sin(x)**9 - 10546272*sin(x)**7*cos(x)**2 + 23242464*sin(x)**5*cos(x)**4 - 8467200*sin(x)**3*cos(x)**6 + 362880*sin(x)*cos(x)**8"
      ]
     },
     "execution_count": 68,
     "metadata": {},
     "output_type": "execute_result"
    }
   ],
   "source": [
    "a8"
   ]
  },
  {
   "cell_type": "code",
   "execution_count": 69,
   "id": "2ab077cc",
   "metadata": {},
   "outputs": [
    {
     "data": {
      "text/latex": [
       "$\\displaystyle 24943689 \\sin^{8}{\\left(x \\right)} \\cos{\\left(x \\right)} - 166793760 \\sin^{6}{\\left(x \\right)} \\cos^{3}{\\left(x \\right)} + 167015520 \\sin^{4}{\\left(x \\right)} \\cos^{5}{\\left(x \\right)} - 28304640 \\sin^{2}{\\left(x \\right)} \\cos^{7}{\\left(x \\right)} + 362880 \\cos^{9}{\\left(x \\right)}$"
      ],
      "text/plain": [
       "24943689*sin(x)**8*cos(x) - 166793760*sin(x)**6*cos(x)**3 + 167015520*sin(x)**4*cos(x)**5 - 28304640*sin(x)**2*cos(x)**7 + 362880*cos(x)**9"
      ]
     },
     "execution_count": 69,
     "metadata": {},
     "output_type": "execute_result"
    }
   ],
   "source": [
    "a9"
   ]
  },
  {
   "cell_type": "code",
   "execution_count": 70,
   "id": "43f88b9c",
   "metadata": {},
   "outputs": [
    {
     "data": {
      "text/latex": [
       "$\\displaystyle \\frac{5 x^{6}}{6} - \\frac{\\cos^{9}{\\left(x \\right)}}{9} + \\frac{4 \\cos^{7}{\\left(x \\right)}}{7} - \\frac{6 \\cos^{5}{\\left(x \\right)}}{5} + \\frac{4 \\cos^{3}{\\left(x \\right)}}{3} - \\cos{\\left(x \\right)}$"
      ],
      "text/plain": [
       "5*x**6/6 - cos(x)**9/9 + 4*cos(x)**7/7 - 6*cos(x)**5/5 + 4*cos(x)**3/3 - cos(x)"
      ]
     },
     "execution_count": 70,
     "metadata": {},
     "output_type": "execute_result"
    }
   ],
   "source": [
    "a = sin(x)**9+5*x**5\n",
    "a1 =integrate(a)\n",
    "a1"
   ]
  },
  {
   "cell_type": "code",
   "execution_count": 71,
   "id": "14370ed1",
   "metadata": {},
   "outputs": [
    {
     "data": {
      "text/latex": [
       "$\\displaystyle \\frac{5 x^{7}}{42} - \\frac{\\sin^{9}{\\left(x \\right)}}{81} - \\frac{8 \\sin^{7}{\\left(x \\right)}}{441} - \\frac{16 \\sin^{5}{\\left(x \\right)}}{525} - \\frac{64 \\sin^{3}{\\left(x \\right)}}{945} - \\frac{128 \\sin{\\left(x \\right)}}{315}$"
      ],
      "text/plain": [
       "5*x**7/42 - sin(x)**9/81 - 8*sin(x)**7/441 - 16*sin(x)**5/525 - 64*sin(x)**3/945 - 128*sin(x)/315"
      ]
     },
     "execution_count": 71,
     "metadata": {},
     "output_type": "execute_result"
    }
   ],
   "source": [
    "a2 =integrate(a1)\n",
    "a2\n"
   ]
  },
  {
   "cell_type": "code",
   "execution_count": 72,
   "id": "b8fab0b7",
   "metadata": {},
   "outputs": [
    {
     "data": {
      "text/latex": [
       "$\\displaystyle \\frac{5 x^{8}}{336} + \\frac{\\cos^{9}{\\left(x \\right)}}{729} - \\frac{268 \\cos^{7}{\\left(x \\right)}}{27783} + \\frac{5258 \\cos^{5}{\\left(x \\right)}}{165375} - \\frac{23068 \\cos^{3}{\\left(x \\right)}}{297675} + \\frac{53089 \\cos{\\left(x \\right)}}{99225}$"
      ],
      "text/plain": [
       "5*x**8/336 + cos(x)**9/729 - 268*cos(x)**7/27783 + 5258*cos(x)**5/165375 - 23068*cos(x)**3/297675 + 53089*cos(x)/99225"
      ]
     },
     "execution_count": 72,
     "metadata": {},
     "output_type": "execute_result"
    }
   ],
   "source": [
    "a3 =integrate(a2)\n",
    "a3"
   ]
  },
  {
   "cell_type": "code",
   "execution_count": 73,
   "id": "41d9498f",
   "metadata": {},
   "outputs": [
    {
     "data": {
      "text/latex": [
       "$\\displaystyle \\frac{5 x^{9}}{3024} + \\frac{\\sin^{9}{\\left(x \\right)}}{6561} + \\frac{1040 \\sin^{7}{\\left(x \\right)}}{1750329} + \\frac{115504 \\sin^{5}{\\left(x \\right)}}{52093125} + \\frac{1167616 \\sin^{3}{\\left(x \\right)}}{93767625} + \\frac{15036032 \\sin{\\left(x \\right)}}{31255875}$"
      ],
      "text/plain": [
       "5*x**9/3024 + sin(x)**9/6561 + 1040*sin(x)**7/1750329 + 115504*sin(x)**5/52093125 + 1167616*sin(x)**3/93767625 + 15036032*sin(x)/31255875"
      ]
     },
     "execution_count": 73,
     "metadata": {},
     "output_type": "execute_result"
    }
   ],
   "source": [
    "a4 =integrate(a3)\n",
    "a4"
   ]
  },
  {
   "cell_type": "code",
   "execution_count": 74,
   "id": "76a291ac",
   "metadata": {},
   "outputs": [
    {
     "data": {
      "text/latex": [
       "$\\displaystyle \\frac{x^{10}}{6048} - \\frac{\\cos^{9}{\\left(x \\right)}}{59049} + \\frac{18964 \\cos^{7}{\\left(x \\right)}}{110270727} - \\frac{16128002 \\cos^{5}{\\left(x \\right)}}{16409334375} + \\frac{189812692 \\cos^{3}{\\left(x \\right)}}{29536801875} - \\frac{4888130641 \\cos{\\left(x \\right)}}{9845600625}$"
      ],
      "text/plain": [
       "x**10/6048 - cos(x)**9/59049 + 18964*cos(x)**7/110270727 - 16128002*cos(x)**5/16409334375 + 189812692*cos(x)**3/29536801875 - 4888130641*cos(x)/9845600625"
      ]
     },
     "execution_count": 74,
     "metadata": {},
     "output_type": "execute_result"
    }
   ],
   "source": [
    "a5 =integrate(a4)\n",
    "a5"
   ]
  },
  {
   "cell_type": "code",
   "execution_count": 75,
   "id": "66d7a777",
   "metadata": {},
   "outputs": [
    {
     "data": {
      "text/latex": [
       "$\\displaystyle \\frac{x^{11}}{66528} - \\frac{\\sin^{9}{\\left(x \\right)}}{531441} - \\frac{103448 \\sin^{7}{\\left(x \\right)}}{6947055801} - \\frac{587745376 \\sin^{5}{\\left(x \\right)}}{5168940328125} - \\frac{15223947904 \\sin^{3}{\\left(x \\right)}}{9304092590625} - \\frac{1522398171008 \\sin{\\left(x \\right)}}{3101364196875}$"
      ],
      "text/plain": [
       "x**11/66528 - sin(x)**9/531441 - 103448*sin(x)**7/6947055801 - 587745376*sin(x)**5/5168940328125 - 15223947904*sin(x)**3/9304092590625 - 1522398171008*sin(x)/3101364196875"
      ]
     },
     "execution_count": 75,
     "metadata": {},
     "output_type": "execute_result"
    }
   ],
   "source": [
    "a6 =integrate(a5)\n",
    "a6"
   ]
  },
  {
   "cell_type": "code",
   "execution_count": 84,
   "id": "96a51e90",
   "metadata": {},
   "outputs": [
    {
     "data": {
      "text/latex": [
       "$\\displaystyle \\left[\\begin{matrix}2 & 3\\\\2 & 5\\end{matrix}\\right]$"
      ],
      "text/plain": [
       "Matrix([\n",
       "[2, 3],\n",
       "[2, 5]])"
      ]
     },
     "execution_count": 84,
     "metadata": {},
     "output_type": "execute_result"
    }
   ],
   "source": [
    "a = Matrix([[1,1],[1,0]])\n",
    "b = Matrix([[1,2],[1,5]])\n",
    "\n",
    "\n"
   ]
  },
  {
   "cell_type": "code",
   "execution_count": 85,
   "id": "08ab1278",
   "metadata": {},
   "outputs": [
    {
     "data": {
      "text/latex": [
       "$\\displaystyle \\left[\\begin{matrix}1 & 1\\\\1 & 0\\end{matrix}\\right]$"
      ],
      "text/plain": [
       "Matrix([\n",
       "[1, 1],\n",
       "[1, 0]])"
      ]
     },
     "execution_count": 85,
     "metadata": {},
     "output_type": "execute_result"
    }
   ],
   "source": [
    "a"
   ]
  },
  {
   "cell_type": "code",
   "execution_count": 86,
   "id": "740146c8",
   "metadata": {},
   "outputs": [
    {
     "data": {
      "text/latex": [
       "$\\displaystyle \\left[\\begin{matrix}1 & 2\\\\1 & 5\\end{matrix}\\right]$"
      ],
      "text/plain": [
       "Matrix([\n",
       "[1, 2],\n",
       "[1, 5]])"
      ]
     },
     "execution_count": 86,
     "metadata": {},
     "output_type": "execute_result"
    }
   ],
   "source": [
    "b"
   ]
  },
  {
   "cell_type": "code",
   "execution_count": 87,
   "id": "26a2eb7e",
   "metadata": {},
   "outputs": [
    {
     "data": {
      "text/latex": [
       "$\\displaystyle \\left[\\begin{matrix}2 & 3\\\\2 & 5\\end{matrix}\\right]$"
      ],
      "text/plain": [
       "Matrix([\n",
       "[2, 3],\n",
       "[2, 5]])"
      ]
     },
     "execution_count": 87,
     "metadata": {},
     "output_type": "execute_result"
    }
   ],
   "source": [
    "a+b"
   ]
  },
  {
   "cell_type": "code",
   "execution_count": 88,
   "id": "69559be7",
   "metadata": {},
   "outputs": [
    {
     "data": {
      "text/latex": [
       "$\\displaystyle \\left[\\begin{matrix}0 & -1\\\\0 & -5\\end{matrix}\\right]$"
      ],
      "text/plain": [
       "Matrix([\n",
       "[0, -1],\n",
       "[0, -5]])"
      ]
     },
     "execution_count": 88,
     "metadata": {},
     "output_type": "execute_result"
    }
   ],
   "source": [
    "a-b"
   ]
  },
  {
   "cell_type": "code",
   "execution_count": 90,
   "id": "fd31320a",
   "metadata": {},
   "outputs": [
    {
     "data": {
      "text/latex": [
       "$\\displaystyle \\left[\\begin{matrix}2 & 7\\\\1 & 2\\end{matrix}\\right]$"
      ],
      "text/plain": [
       "Matrix([\n",
       "[2, 7],\n",
       "[1, 2]])"
      ]
     },
     "execution_count": 90,
     "metadata": {},
     "output_type": "execute_result"
    }
   ],
   "source": [
    "a*b"
   ]
  },
  {
   "cell_type": "code",
   "execution_count": 102,
   "id": "2e4ce6b9",
   "metadata": {},
   "outputs": [
    {
     "data": {
      "text/latex": [
       "$\\displaystyle 3$"
      ],
      "text/plain": [
       "3"
      ]
     },
     "execution_count": 102,
     "metadata": {},
     "output_type": "execute_result"
    }
   ],
   "source": [
    "det(a)\n",
    "det(b)"
   ]
  },
  {
   "cell_type": "code",
   "execution_count": 103,
   "id": "15a998ed",
   "metadata": {},
   "outputs": [
    {
     "data": {
      "text/plain": [
       "(Matrix([\n",
       " [sqrt(2)/2,  sqrt(2)/2],\n",
       " [sqrt(2)/2, -sqrt(2)/2]]),\n",
       " Matrix([\n",
       " [sqrt(2), sqrt(2)/2],\n",
       " [      0, sqrt(2)/2]]))"
      ]
     },
     "execution_count": 103,
     "metadata": {},
     "output_type": "execute_result"
    }
   ],
   "source": [
    "a.QRdecomposition()"
   ]
  },
  {
   "cell_type": "code",
   "execution_count": 18,
   "id": "13f14bd6",
   "metadata": {},
   "outputs": [
    {
     "data": {
      "text/latex": [
       "$\\displaystyle \\left[\\begin{matrix}0 & 0 & 0 & 0 & 0\\\\0 & 0 & 0 & 0 & 0\\\\0 & 0 & 0 & 0 & 0\\\\0 & 0 & 0 & 0 & 0\\\\0 & 0 & 0 & 0 & 0\\end{matrix}\\right]$"
      ],
      "text/plain": [
       "Matrix([\n",
       "[0, 0, 0, 0, 0],\n",
       "[0, 0, 0, 0, 0],\n",
       "[0, 0, 0, 0, 0],\n",
       "[0, 0, 0, 0, 0],\n",
       "[0, 0, 0, 0, 0]])"
      ]
     },
     "execution_count": 18,
     "metadata": {},
     "output_type": "execute_result"
    }
   ],
   "source": [
    "zeros(5)"
   ]
  },
  {
   "cell_type": "code",
   "execution_count": 120,
   "id": "00e69ab9",
   "metadata": {},
   "outputs": [
    {
     "data": {
      "text/latex": [
       "$\\displaystyle 2$"
      ],
      "text/plain": [
       "2"
      ]
     },
     "execution_count": 120,
     "metadata": {},
     "output_type": "execute_result"
    }
   ],
   "source": [
    "poly = x**2-7*x+10\n",
    "a = solve(poly,x)[0]\n",
    "a"
   ]
  },
  {
   "cell_type": "code",
   "execution_count": 118,
   "id": "7e4c35bd",
   "metadata": {},
   "outputs": [
    {
     "data": {
      "text/latex": [
       "$\\displaystyle 5$"
      ],
      "text/plain": [
       "5"
      ]
     },
     "execution_count": 118,
     "metadata": {},
     "output_type": "execute_result"
    }
   ],
   "source": [
    "poly = x**2-7*x+10\n",
    "a = solve(poly,x)[1]\n",
    "a"
   ]
  },
  {
   "cell_type": "code",
   "execution_count": 122,
   "id": "17f3227f",
   "metadata": {},
   "outputs": [
    {
     "data": {
      "text/latex": [
       "$\\displaystyle - 2 \\frac{d}{d x} f{\\left(x \\right)} + \\frac{d^{2}}{d x^{2}} f{\\left(x \\right)} + 1$"
      ],
      "text/plain": [
       "-2*Derivative(f(x), x) + Derivative(f(x), (x, 2)) + 1"
      ]
     },
     "execution_count": 122,
     "metadata": {},
     "output_type": "execute_result"
    }
   ],
   "source": [
    "f,g = symbols('f g',cls=Function)\n",
    "\n",
    "expr = f(x).diff(x,x)-2*f(x).diff(x) + 1\n",
    "expr"
   ]
  },
  {
   "cell_type": "code",
   "execution_count": 125,
   "id": "2c6d33de",
   "metadata": {},
   "outputs": [
    {
     "data": {
      "text/latex": [
       "$\\displaystyle f{\\left(x \\right)} = C_{1} + C_{2} e^{2 x} + \\frac{x}{2}$"
      ],
      "text/plain": [
       "Eq(f(x), C1 + C2*exp(2*x) + x/2)"
      ]
     },
     "execution_count": 125,
     "metadata": {},
     "output_type": "execute_result"
    }
   ],
   "source": [
    "eqn = dsolve(expr,f(x))\n",
    "eqn"
   ]
  },
  {
   "cell_type": "code",
   "execution_count": 136,
   "id": "fdae683d",
   "metadata": {},
   "outputs": [
    {
     "data": {
      "text/plain": [
       "'sin(C1) + sin(C1 + pi/3)'"
      ]
     },
     "execution_count": 136,
     "metadata": {},
     "output_type": "execute_result"
    }
   ],
   "source": [
    "\n",
    "expr = sin(x+pi/3)+sin(x)\n",
    "simplify(expr)\n",
    "\n",
    "str(expr)"
   ]
  },
  {
   "cell_type": "code",
   "execution_count": 144,
   "id": "5d94f5d5",
   "metadata": {},
   "outputs": [
    {
     "data": {
      "text/latex": [
       "$\\displaystyle \\sin{\\left(\\theta \\right)} + \\cos^{2}{\\left(\\theta \\right)} + 1$"
      ],
      "text/plain": [
       "sin(theta) + cos(theta)**2 + 1"
      ]
     },
     "execution_count": 144,
     "metadata": {},
     "output_type": "execute_result"
    }
   ],
   "source": [
    "expr = sin(theta)+cos(theta)**2+1\n",
    "\n",
    "expr"
   ]
  },
  {
   "cell_type": "code",
   "execution_count": 143,
   "id": "acd0ff73",
   "metadata": {},
   "outputs": [
    {
     "data": {
      "text/plain": [
       "[-pi/2, 2*atan(1/2 - sqrt(3)*I/2), 2*atan(1/2 + sqrt(3)*I/2)]"
      ]
     },
     "execution_count": 143,
     "metadata": {},
     "output_type": "execute_result"
    }
   ],
   "source": [
    "solutions = solve(expr)\n",
    "solutions"
   ]
  },
  {
   "cell_type": "code",
   "execution_count": 145,
   "id": "a2ed47d2",
   "metadata": {},
   "outputs": [
    {
     "data": {
      "text/latex": [
       "$\\displaystyle 0$"
      ],
      "text/plain": [
       "0"
      ]
     },
     "execution_count": 145,
     "metadata": {},
     "output_type": "execute_result"
    }
   ],
   "source": [
    "expr.subs(theta, solutions[0])"
   ]
  },
  {
   "cell_type": "code",
   "execution_count": 149,
   "id": "4b84d043",
   "metadata": {},
   "outputs": [
    {
     "data": {
      "image/png": "[encoded data removed]",
      "text/plain": [
       "<Figure size 432x288 with 1 Axes>"
      ]
     },
     "metadata": {
      "needs_background": "light"
     },
     "output_type": "display_data"
    }
   ],
   "source": [
    "from sympy import symbols\n",
    "from sympy.plotting import plot\n",
    "x = symbols('x')\n",
    "p1 = plot(x*x, show=False)\n",
    "p2 = plot(x, show=False)\n",
    "p1.append(p2[0])\n",
    "p1\n",
    "\n",
    "\n",
    "p1.show()"
   ]
  },
  {
   "cell_type": "code",
   "execution_count": 14,
   "id": "34754a22",
   "metadata": {},
   "outputs": [
    {
     "data": {
      "image/png": "[encoded data removed]",
      "text/plain": [
       "<Figure size 432x288 with 1 Axes>"
      ]
     },
     "metadata": {
      "needs_background": "light"
     },
     "output_type": "display_data"
    }
   ],
   "source": [
    "from sympy import symbols, cos, sin\n",
    "from sympy.plotting import plot_parametric\n",
    "u = symbols('u')\n",
    "p=plot_parametric((cos(u), sin(u)), (u, -50, 50))\n",
    "#Plot object containing parametric cartesian line: \n",
    "#(cos(u), sin(u)) for u over (-5.0, 5.0)\n"
   ]
  },
  {
   "cell_type": "code",
   "execution_count": 17,
   "id": "139d2a39",
   "metadata": {},
   "outputs": [
    {
     "data": {
      "image/png": "[encoded data removed]",
      "text/plain": [
       "<Figure size 432x288 with 1 Axes>"
      ]
     },
     "metadata": {
      "needs_background": "light"
     },
     "output_type": "display_data"
    },
    {
     "data": {
      "image/png": "[encoded data removed]",
      "text/plain": [
       "<Figure size 432x288 with 1 Axes>"
      ]
     },
     "metadata": {
      "needs_background": "light"
     },
     "output_type": "display_data"
    }
   ],
   "source": [
    "p=plot_parametric((cos(u), sin(u)), (u, cos(u)), (u, -10, 10))\n",
    "p.show()"
   ]
  },
  {
   "cell_type": "code",
   "execution_count": 162,
   "id": "722229b1",
   "metadata": {},
   "outputs": [
    {
     "data": {
      "image/png": "[encoded data removed]",
      "text/plain": [
       "<Figure size 432x288 with 1 Axes>"
      ]
     },
     "metadata": {
      "needs_background": "light"
     },
     "output_type": "display_data"
    },
    {
     "data": {
      "text/plain": [
       "<sympy.plotting.plot.Plot at 0x237c69a7220>"
      ]
     },
     "execution_count": 162,
     "metadata": {},
     "output_type": "execute_result"
    }
   ],
   "source": [
    "from sympy import symbols\n",
    "from sympy.plotting import plot3d\n",
    "x, y = symbols('x y')\n",
    "plot3d(x*y, (x, -5, 5), (y, -5, 5))"
   ]
  },
  {
   "cell_type": "code",
   "execution_count": null,
   "id": "533b15ff",
   "metadata": {},
   "outputs": [],
   "source": []
  },
  {
   "cell_type": "code",
   "execution_count": null,
   "id": "a3d191b2",
   "metadata": {},
   "outputs": [],
   "source": []
  }
 ],
 "metadata": {
  "kernelspec": {
   "display_name": "Python 3 (ipykernel)",
   "language": "python",
   "name": "python3"
  },
  "language_info": {
   "codemirror_mode": {
    "name": "ipython",
    "version": 3
   },
   "file_extension": ".py",
   "mimetype": "text/x-python",
   "name": "python",
   "nbconvert_exporter": "python",
   "pygments_lexer": "ipython3",
   "version": "3.8.12"
  }
 },
 "nbformat": 4,
 "nbformat_minor": 5
}
